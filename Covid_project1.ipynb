{
 "cells": [
  {
   "cell_type": "code",
   "execution_count": 1,
   "id": "78e7c382",
   "metadata": {},
   "outputs": [],
   "source": [
    "\n",
    "import pandas as pd\n",
    "import numpy as np\n",
    "import seaborn as sns\n",
    "import requests\n",
    "import matplotlib.pyplot as plt\n",
    "import urllib.request\n",
    "from bs4 import BeautifulSoup\n",
    "import warnings\n",
    "warnings.filterwarnings('ignore')\n",
    "sns.set_style(\"darkgrid\")\n",
    "plt.style.use('fivethirtyeight')\n",
    "%matplotlib inline\n",
    "import csv\n",
    "import datetime as dt"
   ]
  },
  {
   "cell_type": "markdown",
   "id": "80af109e",
   "metadata": {},
   "source": [
    "##DATA COLLECTION"
   ]
  },
  {
   "cell_type": "code",
   "execution_count": 2,
   "id": "59f82f9a",
   "metadata": {},
   "outputs": [],
   "source": [
    "url= \"https://covid19.ncdc.gov.ng\"      #Web scrapping"
   ]
  },
  {
   "cell_type": "code",
   "execution_count": 3,
   "id": "cf9ffab8",
   "metadata": {},
   "outputs": [],
   "source": [
    "page= requests.get(url)"
   ]
  },
  {
   "cell_type": "code",
   "execution_count": 4,
   "id": "ecace8db",
   "metadata": {},
   "outputs": [],
   "source": [
    " soup = BeautifulSoup(page.text, \"html\")"
   ]
  },
  {
   "cell_type": "code",
   "execution_count": 5,
   "id": "8b851cfc",
   "metadata": {},
   "outputs": [],
   "source": [
    "table = soup.find('table')"
   ]
  },
  {
   "cell_type": "code",
   "execution_count": 6,
   "id": "2da7b9c7",
   "metadata": {},
   "outputs": [],
   "source": [
    "header_list = []"
   ]
  },
  {
   "cell_type": "code",
   "execution_count": 7,
   "id": "906168e0",
   "metadata": {},
   "outputs": [],
   "source": [
    "header= table.find_all(\"th\")"
   ]
  },
  {
   "cell_type": "code",
   "execution_count": 8,
   "id": "063c4304",
   "metadata": {},
   "outputs": [],
   "source": [
    "for i in header:\n",
    "    head = i.text\n",
    "    header_list.append(head)"
   ]
  },
  {
   "cell_type": "code",
   "execution_count": 9,
   "id": "db34d24f",
   "metadata": {},
   "outputs": [
    {
     "name": "stdout",
     "output_type": "stream",
     "text": [
      "['States Affected', 'No. of Cases (Lab Confirmed)', 'No. of Cases (on admission)', 'No. Discharged', 'No. of Deaths']\n"
     ]
    }
   ],
   "source": [
    "print(header_list)"
   ]
  },
  {
   "cell_type": "code",
   "execution_count": 10,
   "id": "54ac8e7d",
   "metadata": {},
   "outputs": [],
   "source": [
    "df=pd.DataFrame(columns=header_list)"
   ]
  },
  {
   "cell_type": "code",
   "execution_count": 11,
   "id": "1e158989",
   "metadata": {},
   "outputs": [
    {
     "data": {
      "text/html": [
       "<div>\n",
       "<style scoped>\n",
       "    .dataframe tbody tr th:only-of-type {\n",
       "        vertical-align: middle;\n",
       "    }\n",
       "\n",
       "    .dataframe tbody tr th {\n",
       "        vertical-align: top;\n",
       "    }\n",
       "\n",
       "    .dataframe thead th {\n",
       "        text-align: right;\n",
       "    }\n",
       "</style>\n",
       "<table border=\"1\" class=\"dataframe\">\n",
       "  <thead>\n",
       "    <tr style=\"text-align: right;\">\n",
       "      <th></th>\n",
       "      <th>States Affected</th>\n",
       "      <th>No. of Cases (Lab Confirmed)</th>\n",
       "      <th>No. of Cases (on admission)</th>\n",
       "      <th>No. Discharged</th>\n",
       "      <th>No. of Deaths</th>\n",
       "    </tr>\n",
       "  </thead>\n",
       "  <tbody>\n",
       "  </tbody>\n",
       "</table>\n",
       "</div>"
      ],
      "text/plain": [
       "Empty DataFrame\n",
       "Columns: [States Affected, No. of Cases (Lab Confirmed), No. of Cases (on admission), No. Discharged, No. of Deaths]\n",
       "Index: []"
      ]
     },
     "execution_count": 11,
     "metadata": {},
     "output_type": "execute_result"
    }
   ],
   "source": [
    "df"
   ]
  },
  {
   "cell_type": "code",
   "execution_count": 12,
   "id": "dc216b3f",
   "metadata": {},
   "outputs": [],
   "source": [
    "column_data = table.find_all('tr')"
   ]
  },
  {
   "cell_type": "code",
   "execution_count": 13,
   "id": "6f81530a",
   "metadata": {},
   "outputs": [],
   "source": [
    "for row in column_data[1:]:\n",
    "    row_data = row.find_all('td')\n",
    "    individual_row_data = [data.text.strip() for data in row_data]\n",
    "    \n",
    "    length= len(df)\n",
    "    df.loc[length] = individual_row_data"
   ]
  },
  {
   "cell_type": "code",
   "execution_count": 14,
   "id": "9c0f30b7",
   "metadata": {},
   "outputs": [
    {
     "data": {
      "text/html": [
       "<div>\n",
       "<style scoped>\n",
       "    .dataframe tbody tr th:only-of-type {\n",
       "        vertical-align: middle;\n",
       "    }\n",
       "\n",
       "    .dataframe tbody tr th {\n",
       "        vertical-align: top;\n",
       "    }\n",
       "\n",
       "    .dataframe thead th {\n",
       "        text-align: right;\n",
       "    }\n",
       "</style>\n",
       "<table border=\"1\" class=\"dataframe\">\n",
       "  <thead>\n",
       "    <tr style=\"text-align: right;\">\n",
       "      <th></th>\n",
       "      <th>States Affected</th>\n",
       "      <th>No. of Cases (Lab Confirmed)</th>\n",
       "      <th>No. of Cases (on admission)</th>\n",
       "      <th>No. Discharged</th>\n",
       "      <th>No. of Deaths</th>\n",
       "    </tr>\n",
       "  </thead>\n",
       "  <tbody>\n",
       "    <tr>\n",
       "      <th>0</th>\n",
       "      <td>Lagos</td>\n",
       "      <td>104,286</td>\n",
       "      <td>1,143</td>\n",
       "      <td>102,372</td>\n",
       "      <td>771</td>\n",
       "    </tr>\n",
       "    <tr>\n",
       "      <th>1</th>\n",
       "      <td>FCT</td>\n",
       "      <td>29,535</td>\n",
       "      <td>9</td>\n",
       "      <td>29,277</td>\n",
       "      <td>249</td>\n",
       "    </tr>\n",
       "    <tr>\n",
       "      <th>2</th>\n",
       "      <td>Rivers</td>\n",
       "      <td>18,112</td>\n",
       "      <td>-3</td>\n",
       "      <td>17,960</td>\n",
       "      <td>155</td>\n",
       "    </tr>\n",
       "    <tr>\n",
       "      <th>3</th>\n",
       "      <td>Kaduna</td>\n",
       "      <td>11,675</td>\n",
       "      <td>3</td>\n",
       "      <td>11,583</td>\n",
       "      <td>89</td>\n",
       "    </tr>\n",
       "    <tr>\n",
       "      <th>4</th>\n",
       "      <td>Plateau</td>\n",
       "      <td>10,365</td>\n",
       "      <td>4</td>\n",
       "      <td>10,286</td>\n",
       "      <td>75</td>\n",
       "    </tr>\n",
       "  </tbody>\n",
       "</table>\n",
       "</div>"
      ],
      "text/plain": [
       "  States Affected No. of Cases (Lab Confirmed) No. of Cases (on admission)  \\\n",
       "0           Lagos                      104,286                       1,143   \n",
       "1             FCT                       29,535                           9   \n",
       "2          Rivers                       18,112                          -3   \n",
       "3          Kaduna                       11,675                           3   \n",
       "4         Plateau                       10,365                           4   \n",
       "\n",
       "  No. Discharged No. of Deaths  \n",
       "0        102,372           771  \n",
       "1         29,277           249  \n",
       "2         17,960           155  \n",
       "3         11,583            89  \n",
       "4         10,286            75  "
      ]
     },
     "execution_count": 14,
     "metadata": {},
     "output_type": "execute_result"
    }
   ],
   "source": [
    "df.head()               # Save to data frame object"
   ]
  },
  {
   "cell_type": "markdown",
   "id": "2f0d4f1c",
   "metadata": {},
   "source": [
    "#Saving the data from the GitHub repo link to DataFrame "
   ]
  },
  {
   "cell_type": "code",
   "execution_count": 15,
   "id": "2a33f52d",
   "metadata": {},
   "outputs": [],
   "source": [
    "files = \"https://github.com/CSSEGISandData/COVID-19/raw/master/csse_covid_19_data/csse_covid_19_time_series/time_series_covid19_confirmed_global.csv\""
   ]
  },
  {
   "cell_type": "code",
   "execution_count": 16,
   "id": "feb3158a",
   "metadata": {},
   "outputs": [],
   "source": [
    "daily_confirmed_cases = pd.read_csv(files)"
   ]
  },
  {
   "cell_type": "code",
   "execution_count": 17,
   "id": "5c940bdc",
   "metadata": {},
   "outputs": [
    {
     "data": {
      "text/html": [
       "<div>\n",
       "<style scoped>\n",
       "    .dataframe tbody tr th:only-of-type {\n",
       "        vertical-align: middle;\n",
       "    }\n",
       "\n",
       "    .dataframe tbody tr th {\n",
       "        vertical-align: top;\n",
       "    }\n",
       "\n",
       "    .dataframe thead th {\n",
       "        text-align: right;\n",
       "    }\n",
       "</style>\n",
       "<table border=\"1\" class=\"dataframe\">\n",
       "  <thead>\n",
       "    <tr style=\"text-align: right;\">\n",
       "      <th></th>\n",
       "      <th>Province/State</th>\n",
       "      <th>Country/Region</th>\n",
       "      <th>Lat</th>\n",
       "      <th>Long</th>\n",
       "      <th>1/22/20</th>\n",
       "      <th>1/23/20</th>\n",
       "      <th>1/24/20</th>\n",
       "      <th>1/25/20</th>\n",
       "      <th>1/26/20</th>\n",
       "      <th>1/27/20</th>\n",
       "      <th>...</th>\n",
       "      <th>2/28/23</th>\n",
       "      <th>3/1/23</th>\n",
       "      <th>3/2/23</th>\n",
       "      <th>3/3/23</th>\n",
       "      <th>3/4/23</th>\n",
       "      <th>3/5/23</th>\n",
       "      <th>3/6/23</th>\n",
       "      <th>3/7/23</th>\n",
       "      <th>3/8/23</th>\n",
       "      <th>3/9/23</th>\n",
       "    </tr>\n",
       "  </thead>\n",
       "  <tbody>\n",
       "    <tr>\n",
       "      <th>0</th>\n",
       "      <td>NaN</td>\n",
       "      <td>Afghanistan</td>\n",
       "      <td>33.93911</td>\n",
       "      <td>67.709953</td>\n",
       "      <td>0</td>\n",
       "      <td>0</td>\n",
       "      <td>0</td>\n",
       "      <td>0</td>\n",
       "      <td>0</td>\n",
       "      <td>0</td>\n",
       "      <td>...</td>\n",
       "      <td>209322</td>\n",
       "      <td>209340</td>\n",
       "      <td>209358</td>\n",
       "      <td>209362</td>\n",
       "      <td>209369</td>\n",
       "      <td>209390</td>\n",
       "      <td>209406</td>\n",
       "      <td>209436</td>\n",
       "      <td>209451</td>\n",
       "      <td>209451</td>\n",
       "    </tr>\n",
       "    <tr>\n",
       "      <th>1</th>\n",
       "      <td>NaN</td>\n",
       "      <td>Albania</td>\n",
       "      <td>41.15330</td>\n",
       "      <td>20.168300</td>\n",
       "      <td>0</td>\n",
       "      <td>0</td>\n",
       "      <td>0</td>\n",
       "      <td>0</td>\n",
       "      <td>0</td>\n",
       "      <td>0</td>\n",
       "      <td>...</td>\n",
       "      <td>334391</td>\n",
       "      <td>334408</td>\n",
       "      <td>334408</td>\n",
       "      <td>334427</td>\n",
       "      <td>334427</td>\n",
       "      <td>334427</td>\n",
       "      <td>334427</td>\n",
       "      <td>334427</td>\n",
       "      <td>334443</td>\n",
       "      <td>334457</td>\n",
       "    </tr>\n",
       "    <tr>\n",
       "      <th>2</th>\n",
       "      <td>NaN</td>\n",
       "      <td>Algeria</td>\n",
       "      <td>28.03390</td>\n",
       "      <td>1.659600</td>\n",
       "      <td>0</td>\n",
       "      <td>0</td>\n",
       "      <td>0</td>\n",
       "      <td>0</td>\n",
       "      <td>0</td>\n",
       "      <td>0</td>\n",
       "      <td>...</td>\n",
       "      <td>271441</td>\n",
       "      <td>271448</td>\n",
       "      <td>271463</td>\n",
       "      <td>271469</td>\n",
       "      <td>271469</td>\n",
       "      <td>271477</td>\n",
       "      <td>271477</td>\n",
       "      <td>271490</td>\n",
       "      <td>271494</td>\n",
       "      <td>271496</td>\n",
       "    </tr>\n",
       "  </tbody>\n",
       "</table>\n",
       "<p>3 rows × 1147 columns</p>\n",
       "</div>"
      ],
      "text/plain": [
       "  Province/State Country/Region       Lat       Long  1/22/20  1/23/20  \\\n",
       "0            NaN    Afghanistan  33.93911  67.709953        0        0   \n",
       "1            NaN        Albania  41.15330  20.168300        0        0   \n",
       "2            NaN        Algeria  28.03390   1.659600        0        0   \n",
       "\n",
       "   1/24/20  1/25/20  1/26/20  1/27/20  ...  2/28/23  3/1/23  3/2/23  3/3/23  \\\n",
       "0        0        0        0        0  ...   209322  209340  209358  209362   \n",
       "1        0        0        0        0  ...   334391  334408  334408  334427   \n",
       "2        0        0        0        0  ...   271441  271448  271463  271469   \n",
       "\n",
       "   3/4/23  3/5/23  3/6/23  3/7/23  3/8/23  3/9/23  \n",
       "0  209369  209390  209406  209436  209451  209451  \n",
       "1  334427  334427  334427  334427  334443  334457  \n",
       "2  271469  271477  271477  271490  271494  271496  \n",
       "\n",
       "[3 rows x 1147 columns]"
      ]
     },
     "execution_count": 17,
     "metadata": {},
     "output_type": "execute_result"
    }
   ],
   "source": [
    "daily_confirmed_cases.head(3)"
   ]
  },
  {
   "cell_type": "code",
   "execution_count": 18,
   "id": "40470657",
   "metadata": {},
   "outputs": [],
   "source": [
    "files_1 = \"https://github.com/CSSEGISandData/COVID-19/raw/master/csse_covid_19_data/csse_covid_19_time_series/time_series_covid19_recovered_global.csv\""
   ]
  },
  {
   "cell_type": "code",
   "execution_count": 19,
   "id": "4b7f90a2",
   "metadata": {},
   "outputs": [],
   "source": [
    "daily_recovered_cases = pd.read_csv(files_1)"
   ]
  },
  {
   "cell_type": "code",
   "execution_count": 20,
   "id": "7dd31d40",
   "metadata": {},
   "outputs": [
    {
     "data": {
      "text/html": [
       "<div>\n",
       "<style scoped>\n",
       "    .dataframe tbody tr th:only-of-type {\n",
       "        vertical-align: middle;\n",
       "    }\n",
       "\n",
       "    .dataframe tbody tr th {\n",
       "        vertical-align: top;\n",
       "    }\n",
       "\n",
       "    .dataframe thead th {\n",
       "        text-align: right;\n",
       "    }\n",
       "</style>\n",
       "<table border=\"1\" class=\"dataframe\">\n",
       "  <thead>\n",
       "    <tr style=\"text-align: right;\">\n",
       "      <th></th>\n",
       "      <th>Province/State</th>\n",
       "      <th>Country/Region</th>\n",
       "      <th>Lat</th>\n",
       "      <th>Long</th>\n",
       "      <th>1/22/20</th>\n",
       "      <th>1/23/20</th>\n",
       "      <th>1/24/20</th>\n",
       "      <th>1/25/20</th>\n",
       "      <th>1/26/20</th>\n",
       "      <th>1/27/20</th>\n",
       "      <th>...</th>\n",
       "      <th>2/28/23</th>\n",
       "      <th>3/1/23</th>\n",
       "      <th>3/2/23</th>\n",
       "      <th>3/3/23</th>\n",
       "      <th>3/4/23</th>\n",
       "      <th>3/5/23</th>\n",
       "      <th>3/6/23</th>\n",
       "      <th>3/7/23</th>\n",
       "      <th>3/8/23</th>\n",
       "      <th>3/9/23</th>\n",
       "    </tr>\n",
       "  </thead>\n",
       "  <tbody>\n",
       "    <tr>\n",
       "      <th>0</th>\n",
       "      <td>NaN</td>\n",
       "      <td>Afghanistan</td>\n",
       "      <td>33.93911</td>\n",
       "      <td>67.709953</td>\n",
       "      <td>0</td>\n",
       "      <td>0</td>\n",
       "      <td>0</td>\n",
       "      <td>0</td>\n",
       "      <td>0</td>\n",
       "      <td>0</td>\n",
       "      <td>...</td>\n",
       "      <td>0</td>\n",
       "      <td>0</td>\n",
       "      <td>0</td>\n",
       "      <td>0</td>\n",
       "      <td>0</td>\n",
       "      <td>0</td>\n",
       "      <td>0</td>\n",
       "      <td>0</td>\n",
       "      <td>0</td>\n",
       "      <td>0</td>\n",
       "    </tr>\n",
       "    <tr>\n",
       "      <th>1</th>\n",
       "      <td>NaN</td>\n",
       "      <td>Albania</td>\n",
       "      <td>41.15330</td>\n",
       "      <td>20.168300</td>\n",
       "      <td>0</td>\n",
       "      <td>0</td>\n",
       "      <td>0</td>\n",
       "      <td>0</td>\n",
       "      <td>0</td>\n",
       "      <td>0</td>\n",
       "      <td>...</td>\n",
       "      <td>0</td>\n",
       "      <td>0</td>\n",
       "      <td>0</td>\n",
       "      <td>0</td>\n",
       "      <td>0</td>\n",
       "      <td>0</td>\n",
       "      <td>0</td>\n",
       "      <td>0</td>\n",
       "      <td>0</td>\n",
       "      <td>0</td>\n",
       "    </tr>\n",
       "    <tr>\n",
       "      <th>2</th>\n",
       "      <td>NaN</td>\n",
       "      <td>Algeria</td>\n",
       "      <td>28.03390</td>\n",
       "      <td>1.659600</td>\n",
       "      <td>0</td>\n",
       "      <td>0</td>\n",
       "      <td>0</td>\n",
       "      <td>0</td>\n",
       "      <td>0</td>\n",
       "      <td>0</td>\n",
       "      <td>...</td>\n",
       "      <td>0</td>\n",
       "      <td>0</td>\n",
       "      <td>0</td>\n",
       "      <td>0</td>\n",
       "      <td>0</td>\n",
       "      <td>0</td>\n",
       "      <td>0</td>\n",
       "      <td>0</td>\n",
       "      <td>0</td>\n",
       "      <td>0</td>\n",
       "    </tr>\n",
       "  </tbody>\n",
       "</table>\n",
       "<p>3 rows × 1147 columns</p>\n",
       "</div>"
      ],
      "text/plain": [
       "  Province/State Country/Region       Lat       Long  1/22/20  1/23/20  \\\n",
       "0            NaN    Afghanistan  33.93911  67.709953        0        0   \n",
       "1            NaN        Albania  41.15330  20.168300        0        0   \n",
       "2            NaN        Algeria  28.03390   1.659600        0        0   \n",
       "\n",
       "   1/24/20  1/25/20  1/26/20  1/27/20  ...  2/28/23  3/1/23  3/2/23  3/3/23  \\\n",
       "0        0        0        0        0  ...        0       0       0       0   \n",
       "1        0        0        0        0  ...        0       0       0       0   \n",
       "2        0        0        0        0  ...        0       0       0       0   \n",
       "\n",
       "   3/4/23  3/5/23  3/6/23  3/7/23  3/8/23  3/9/23  \n",
       "0       0       0       0       0       0       0  \n",
       "1       0       0       0       0       0       0  \n",
       "2       0       0       0       0       0       0  \n",
       "\n",
       "[3 rows x 1147 columns]"
      ]
     },
     "execution_count": 20,
     "metadata": {},
     "output_type": "execute_result"
    }
   ],
   "source": [
    "daily_recovered_cases.head(3)"
   ]
  },
  {
   "cell_type": "code",
   "execution_count": 21,
   "id": "37612001",
   "metadata": {},
   "outputs": [],
   "source": [
    "files_2 =\"https://github.com/CSSEGISandData/COVID-19/raw/master/csse_covid_19_data/csse_covid_19_time_series/time_series_covid19_deaths_global.csv\""
   ]
  },
  {
   "cell_type": "code",
   "execution_count": 22,
   "id": "a0908ae0",
   "metadata": {},
   "outputs": [],
   "source": [
    "daily_death_cases=pd.read_csv(files_2)"
   ]
  },
  {
   "cell_type": "code",
   "execution_count": 23,
   "id": "6c9762f9",
   "metadata": {},
   "outputs": [
    {
     "data": {
      "text/html": [
       "<div>\n",
       "<style scoped>\n",
       "    .dataframe tbody tr th:only-of-type {\n",
       "        vertical-align: middle;\n",
       "    }\n",
       "\n",
       "    .dataframe tbody tr th {\n",
       "        vertical-align: top;\n",
       "    }\n",
       "\n",
       "    .dataframe thead th {\n",
       "        text-align: right;\n",
       "    }\n",
       "</style>\n",
       "<table border=\"1\" class=\"dataframe\">\n",
       "  <thead>\n",
       "    <tr style=\"text-align: right;\">\n",
       "      <th></th>\n",
       "      <th>Province/State</th>\n",
       "      <th>Country/Region</th>\n",
       "      <th>Lat</th>\n",
       "      <th>Long</th>\n",
       "      <th>1/22/20</th>\n",
       "      <th>1/23/20</th>\n",
       "      <th>1/24/20</th>\n",
       "      <th>1/25/20</th>\n",
       "      <th>1/26/20</th>\n",
       "      <th>1/27/20</th>\n",
       "      <th>...</th>\n",
       "      <th>2/28/23</th>\n",
       "      <th>3/1/23</th>\n",
       "      <th>3/2/23</th>\n",
       "      <th>3/3/23</th>\n",
       "      <th>3/4/23</th>\n",
       "      <th>3/5/23</th>\n",
       "      <th>3/6/23</th>\n",
       "      <th>3/7/23</th>\n",
       "      <th>3/8/23</th>\n",
       "      <th>3/9/23</th>\n",
       "    </tr>\n",
       "  </thead>\n",
       "  <tbody>\n",
       "    <tr>\n",
       "      <th>0</th>\n",
       "      <td>NaN</td>\n",
       "      <td>Afghanistan</td>\n",
       "      <td>33.93911</td>\n",
       "      <td>67.709953</td>\n",
       "      <td>0</td>\n",
       "      <td>0</td>\n",
       "      <td>0</td>\n",
       "      <td>0</td>\n",
       "      <td>0</td>\n",
       "      <td>0</td>\n",
       "      <td>...</td>\n",
       "      <td>7896</td>\n",
       "      <td>7896</td>\n",
       "      <td>7896</td>\n",
       "      <td>7896</td>\n",
       "      <td>7896</td>\n",
       "      <td>7896</td>\n",
       "      <td>7896</td>\n",
       "      <td>7896</td>\n",
       "      <td>7896</td>\n",
       "      <td>7896</td>\n",
       "    </tr>\n",
       "    <tr>\n",
       "      <th>1</th>\n",
       "      <td>NaN</td>\n",
       "      <td>Albania</td>\n",
       "      <td>41.15330</td>\n",
       "      <td>20.168300</td>\n",
       "      <td>0</td>\n",
       "      <td>0</td>\n",
       "      <td>0</td>\n",
       "      <td>0</td>\n",
       "      <td>0</td>\n",
       "      <td>0</td>\n",
       "      <td>...</td>\n",
       "      <td>3598</td>\n",
       "      <td>3598</td>\n",
       "      <td>3598</td>\n",
       "      <td>3598</td>\n",
       "      <td>3598</td>\n",
       "      <td>3598</td>\n",
       "      <td>3598</td>\n",
       "      <td>3598</td>\n",
       "      <td>3598</td>\n",
       "      <td>3598</td>\n",
       "    </tr>\n",
       "    <tr>\n",
       "      <th>2</th>\n",
       "      <td>NaN</td>\n",
       "      <td>Algeria</td>\n",
       "      <td>28.03390</td>\n",
       "      <td>1.659600</td>\n",
       "      <td>0</td>\n",
       "      <td>0</td>\n",
       "      <td>0</td>\n",
       "      <td>0</td>\n",
       "      <td>0</td>\n",
       "      <td>0</td>\n",
       "      <td>...</td>\n",
       "      <td>6881</td>\n",
       "      <td>6881</td>\n",
       "      <td>6881</td>\n",
       "      <td>6881</td>\n",
       "      <td>6881</td>\n",
       "      <td>6881</td>\n",
       "      <td>6881</td>\n",
       "      <td>6881</td>\n",
       "      <td>6881</td>\n",
       "      <td>6881</td>\n",
       "    </tr>\n",
       "  </tbody>\n",
       "</table>\n",
       "<p>3 rows × 1147 columns</p>\n",
       "</div>"
      ],
      "text/plain": [
       "  Province/State Country/Region       Lat       Long  1/22/20  1/23/20  \\\n",
       "0            NaN    Afghanistan  33.93911  67.709953        0        0   \n",
       "1            NaN        Albania  41.15330  20.168300        0        0   \n",
       "2            NaN        Algeria  28.03390   1.659600        0        0   \n",
       "\n",
       "   1/24/20  1/25/20  1/26/20  1/27/20  ...  2/28/23  3/1/23  3/2/23  3/3/23  \\\n",
       "0        0        0        0        0  ...     7896    7896    7896    7896   \n",
       "1        0        0        0        0  ...     3598    3598    3598    3598   \n",
       "2        0        0        0        0  ...     6881    6881    6881    6881   \n",
       "\n",
       "   3/4/23  3/5/23  3/6/23  3/7/23  3/8/23  3/9/23  \n",
       "0    7896    7896    7896    7896    7896    7896  \n",
       "1    3598    3598    3598    3598    3598    3598  \n",
       "2    6881    6881    6881    6881    6881    6881  \n",
       "\n",
       "[3 rows x 1147 columns]"
      ]
     },
     "execution_count": 23,
     "metadata": {},
     "output_type": "execute_result"
    }
   ],
   "source": [
    "daily_death_cases.head(3)"
   ]
  },
  {
   "cell_type": "markdown",
   "id": "57594f06",
   "metadata": {},
   "source": [
    "##Save the external data to a DataFrame"
   ]
  },
  {
   "cell_type": "code",
   "execution_count": 24,
   "id": "38ffe9e6",
   "metadata": {},
   "outputs": [],
   "source": [
    "budget_data = pd.read_csv(\"Budget data.csv\")"
   ]
  },
  {
   "cell_type": "code",
   "execution_count": 25,
   "id": "a49a8151",
   "metadata": {},
   "outputs": [
    {
     "data": {
      "text/html": [
       "<div>\n",
       "<style scoped>\n",
       "    .dataframe tbody tr th:only-of-type {\n",
       "        vertical-align: middle;\n",
       "    }\n",
       "\n",
       "    .dataframe tbody tr th {\n",
       "        vertical-align: top;\n",
       "    }\n",
       "\n",
       "    .dataframe thead th {\n",
       "        text-align: right;\n",
       "    }\n",
       "</style>\n",
       "<table border=\"1\" class=\"dataframe\">\n",
       "  <thead>\n",
       "    <tr style=\"text-align: right;\">\n",
       "      <th></th>\n",
       "      <th>states</th>\n",
       "      <th>Initial_budget (Bn)</th>\n",
       "      <th>Revised_budget (Bn)</th>\n",
       "    </tr>\n",
       "  </thead>\n",
       "  <tbody>\n",
       "    <tr>\n",
       "      <th>0</th>\n",
       "      <td>Abia</td>\n",
       "      <td>136.60</td>\n",
       "      <td>102.70</td>\n",
       "    </tr>\n",
       "    <tr>\n",
       "      <th>1</th>\n",
       "      <td>Adamawa</td>\n",
       "      <td>183.30</td>\n",
       "      <td>139.31</td>\n",
       "    </tr>\n",
       "    <tr>\n",
       "      <th>2</th>\n",
       "      <td>Akwa-Ibom</td>\n",
       "      <td>597.73</td>\n",
       "      <td>366.00</td>\n",
       "    </tr>\n",
       "    <tr>\n",
       "      <th>3</th>\n",
       "      <td>Anambra</td>\n",
       "      <td>137.10</td>\n",
       "      <td>112.80</td>\n",
       "    </tr>\n",
       "    <tr>\n",
       "      <th>4</th>\n",
       "      <td>Bauchi</td>\n",
       "      <td>167.20</td>\n",
       "      <td>128.00</td>\n",
       "    </tr>\n",
       "  </tbody>\n",
       "</table>\n",
       "</div>"
      ],
      "text/plain": [
       "      states  Initial_budget (Bn)  Revised_budget (Bn)\n",
       "0       Abia               136.60               102.70\n",
       "1    Adamawa               183.30               139.31\n",
       "2  Akwa-Ibom               597.73               366.00\n",
       "3    Anambra               137.10               112.80\n",
       "4     Bauchi               167.20               128.00"
      ]
     },
     "execution_count": 25,
     "metadata": {},
     "output_type": "execute_result"
    }
   ],
   "source": [
    "budget_data.head()"
   ]
  },
  {
   "cell_type": "code",
   "execution_count": 26,
   "id": "fb951b91",
   "metadata": {},
   "outputs": [
    {
     "name": "stdout",
     "output_type": "stream",
     "text": [
      "<class 'pandas.core.frame.DataFrame'>\n",
      "RangeIndex: 37 entries, 0 to 36\n",
      "Data columns (total 3 columns):\n",
      " #   Column               Non-Null Count  Dtype  \n",
      "---  ------               --------------  -----  \n",
      " 0   states               37 non-null     object \n",
      " 1   Initial_budget (Bn)  37 non-null     float64\n",
      " 2   Revised_budget (Bn)  37 non-null     float64\n",
      "dtypes: float64(2), object(1)\n",
      "memory usage: 1016.0+ bytes\n"
     ]
    }
   ],
   "source": [
    "budget_data.info()"
   ]
  },
  {
   "cell_type": "code",
   "execution_count": 27,
   "id": "62f3fac6",
   "metadata": {},
   "outputs": [],
   "source": [
    "covid_external = pd.read_csv(\"covid_external.csv\")"
   ]
  },
  {
   "cell_type": "code",
   "execution_count": 28,
   "id": "133191af",
   "metadata": {},
   "outputs": [
    {
     "data": {
      "text/html": [
       "<div>\n",
       "<style scoped>\n",
       "    .dataframe tbody tr th:only-of-type {\n",
       "        vertical-align: middle;\n",
       "    }\n",
       "\n",
       "    .dataframe tbody tr th {\n",
       "        vertical-align: top;\n",
       "    }\n",
       "\n",
       "    .dataframe thead th {\n",
       "        text-align: right;\n",
       "    }\n",
       "</style>\n",
       "<table border=\"1\" class=\"dataframe\">\n",
       "  <thead>\n",
       "    <tr style=\"text-align: right;\">\n",
       "      <th></th>\n",
       "      <th>states</th>\n",
       "      <th>region</th>\n",
       "      <th>Population</th>\n",
       "      <th>Overall CCVI Index</th>\n",
       "      <th>Age</th>\n",
       "      <th>Epidemiological</th>\n",
       "      <th>Fragility</th>\n",
       "      <th>Health System</th>\n",
       "      <th>Population Density</th>\n",
       "      <th>Socio-Economic</th>\n",
       "      <th>Transport Availability</th>\n",
       "      <th>Acute IHR</th>\n",
       "    </tr>\n",
       "  </thead>\n",
       "  <tbody>\n",
       "    <tr>\n",
       "      <th>0</th>\n",
       "      <td>FCT</td>\n",
       "      <td>North Central</td>\n",
       "      <td>4865000</td>\n",
       "      <td>0.3</td>\n",
       "      <td>0.0</td>\n",
       "      <td>0.9</td>\n",
       "      <td>0.4</td>\n",
       "      <td>0.6</td>\n",
       "      <td>0.9</td>\n",
       "      <td>0.6</td>\n",
       "      <td>0.2</td>\n",
       "      <td>0.79</td>\n",
       "    </tr>\n",
       "    <tr>\n",
       "      <th>1</th>\n",
       "      <td>Plateau</td>\n",
       "      <td>North Central</td>\n",
       "      <td>4766000</td>\n",
       "      <td>0.4</td>\n",
       "      <td>0.5</td>\n",
       "      <td>0.4</td>\n",
       "      <td>0.8</td>\n",
       "      <td>0.3</td>\n",
       "      <td>0.3</td>\n",
       "      <td>0.5</td>\n",
       "      <td>0.3</td>\n",
       "      <td>0.93</td>\n",
       "    </tr>\n",
       "    <tr>\n",
       "      <th>2</th>\n",
       "      <td>Kwara</td>\n",
       "      <td>North Central</td>\n",
       "      <td>3524000</td>\n",
       "      <td>0.3</td>\n",
       "      <td>0.4</td>\n",
       "      <td>0.3</td>\n",
       "      <td>0.2</td>\n",
       "      <td>0.4</td>\n",
       "      <td>0.2</td>\n",
       "      <td>0.6</td>\n",
       "      <td>0.7</td>\n",
       "      <td>0.93</td>\n",
       "    </tr>\n",
       "    <tr>\n",
       "      <th>3</th>\n",
       "      <td>Nassarawa</td>\n",
       "      <td>North Central</td>\n",
       "      <td>2783000</td>\n",
       "      <td>0.1</td>\n",
       "      <td>0.3</td>\n",
       "      <td>0.5</td>\n",
       "      <td>0.9</td>\n",
       "      <td>0.0</td>\n",
       "      <td>0.1</td>\n",
       "      <td>0.6</td>\n",
       "      <td>0.5</td>\n",
       "      <td>0.85</td>\n",
       "    </tr>\n",
       "    <tr>\n",
       "      <th>4</th>\n",
       "      <td>Niger</td>\n",
       "      <td>North Central</td>\n",
       "      <td>6260000</td>\n",
       "      <td>0.6</td>\n",
       "      <td>0.0</td>\n",
       "      <td>0.6</td>\n",
       "      <td>0.3</td>\n",
       "      <td>0.7</td>\n",
       "      <td>0.1</td>\n",
       "      <td>0.8</td>\n",
       "      <td>0.8</td>\n",
       "      <td>0.84</td>\n",
       "    </tr>\n",
       "  </tbody>\n",
       "</table>\n",
       "</div>"
      ],
      "text/plain": [
       "      states         region  Population  Overall CCVI Index  Age  \\\n",
       "0        FCT  North Central     4865000                 0.3  0.0   \n",
       "1    Plateau  North Central     4766000                 0.4  0.5   \n",
       "2      Kwara  North Central     3524000                 0.3  0.4   \n",
       "3  Nassarawa  North Central     2783000                 0.1  0.3   \n",
       "4      Niger  North Central     6260000                 0.6  0.0   \n",
       "\n",
       "   Epidemiological  Fragility  Health System  Population Density  \\\n",
       "0              0.9        0.4            0.6                 0.9   \n",
       "1              0.4        0.8            0.3                 0.3   \n",
       "2              0.3        0.2            0.4                 0.2   \n",
       "3              0.5        0.9            0.0                 0.1   \n",
       "4              0.6        0.3            0.7                 0.1   \n",
       "\n",
       "   Socio-Economic   Transport Availability  Acute IHR  \n",
       "0             0.6                      0.2       0.79  \n",
       "1             0.5                      0.3       0.93  \n",
       "2             0.6                      0.7       0.93  \n",
       "3             0.6                      0.5       0.85  \n",
       "4             0.8                      0.8       0.84  "
      ]
     },
     "execution_count": 28,
     "metadata": {},
     "output_type": "execute_result"
    }
   ],
   "source": [
    "covid_external.head()"
   ]
  },
  {
   "cell_type": "code",
   "execution_count": 29,
   "id": "95f0b4b9",
   "metadata": {},
   "outputs": [
    {
     "name": "stdout",
     "output_type": "stream",
     "text": [
      "<class 'pandas.core.frame.DataFrame'>\n",
      "RangeIndex: 37 entries, 0 to 36\n",
      "Data columns (total 12 columns):\n",
      " #   Column                   Non-Null Count  Dtype  \n",
      "---  ------                   --------------  -----  \n",
      " 0   states                   37 non-null     object \n",
      " 1   region                   37 non-null     object \n",
      " 2   Population               37 non-null     int64  \n",
      " 3   Overall CCVI Index       37 non-null     float64\n",
      " 4   Age                      37 non-null     float64\n",
      " 5   Epidemiological          37 non-null     float64\n",
      " 6   Fragility                37 non-null     float64\n",
      " 7   Health System            37 non-null     float64\n",
      " 8   Population Density       37 non-null     float64\n",
      " 9   Socio-Economic           37 non-null     float64\n",
      " 10   Transport Availability  37 non-null     float64\n",
      " 11  Acute IHR                37 non-null     float64\n",
      "dtypes: float64(9), int64(1), object(2)\n",
      "memory usage: 3.6+ KB\n"
     ]
    }
   ],
   "source": [
    "covid_external.info()"
   ]
  },
  {
   "cell_type": "code",
   "execution_count": 30,
   "id": "fbbbba65",
   "metadata": {},
   "outputs": [],
   "source": [
    "covidnig = pd.read_csv(\"covidnig.csv\")"
   ]
  },
  {
   "cell_type": "code",
   "execution_count": 31,
   "id": "82de4264",
   "metadata": {},
   "outputs": [
    {
     "data": {
      "text/html": [
       "<div>\n",
       "<style scoped>\n",
       "    .dataframe tbody tr th:only-of-type {\n",
       "        vertical-align: middle;\n",
       "    }\n",
       "\n",
       "    .dataframe tbody tr th {\n",
       "        vertical-align: top;\n",
       "    }\n",
       "\n",
       "    .dataframe thead th {\n",
       "        text-align: right;\n",
       "    }\n",
       "</style>\n",
       "<table border=\"1\" class=\"dataframe\">\n",
       "  <thead>\n",
       "    <tr style=\"text-align: right;\">\n",
       "      <th></th>\n",
       "      <th>States Affected</th>\n",
       "      <th>No. of Cases (Lab Confirmed)</th>\n",
       "      <th>No. of Cases (on admission)</th>\n",
       "      <th>No. Discharged</th>\n",
       "      <th>No. of Deaths</th>\n",
       "    </tr>\n",
       "  </thead>\n",
       "  <tbody>\n",
       "    <tr>\n",
       "      <th>0</th>\n",
       "      <td>Lagos</td>\n",
       "      <td>26,708</td>\n",
       "      <td>2,435</td>\n",
       "      <td>24,037</td>\n",
       "      <td>236</td>\n",
       "    </tr>\n",
       "    <tr>\n",
       "      <th>1</th>\n",
       "      <td>FCT</td>\n",
       "      <td>9,627</td>\n",
       "      <td>2,840</td>\n",
       "      <td>6,694</td>\n",
       "      <td>93</td>\n",
       "    </tr>\n",
       "    <tr>\n",
       "      <th>2</th>\n",
       "      <td>Kaduna</td>\n",
       "      <td>4,504</td>\n",
       "      <td>579</td>\n",
       "      <td>3,877</td>\n",
       "      <td>48</td>\n",
       "    </tr>\n",
       "    <tr>\n",
       "      <th>3</th>\n",
       "      <td>Plateau</td>\n",
       "      <td>4,262</td>\n",
       "      <td>280</td>\n",
       "      <td>3,948</td>\n",
       "      <td>34</td>\n",
       "    </tr>\n",
       "    <tr>\n",
       "      <th>4</th>\n",
       "      <td>Oyo</td>\n",
       "      <td>3,788</td>\n",
       "      <td>368</td>\n",
       "      <td>3,374</td>\n",
       "      <td>46</td>\n",
       "    </tr>\n",
       "  </tbody>\n",
       "</table>\n",
       "</div>"
      ],
      "text/plain": [
       "  States Affected No. of Cases (Lab Confirmed) No. of Cases (on admission)  \\\n",
       "0           Lagos                       26,708                       2,435   \n",
       "1             FCT                        9,627                       2,840   \n",
       "2          Kaduna                        4,504                         579   \n",
       "3         Plateau                        4,262                         280   \n",
       "4             Oyo                        3,788                         368   \n",
       "\n",
       "  No. Discharged  No. of Deaths  \n",
       "0         24,037            236  \n",
       "1          6,694             93  \n",
       "2          3,877             48  \n",
       "3          3,948             34  \n",
       "4          3,374             46  "
      ]
     },
     "execution_count": 31,
     "metadata": {},
     "output_type": "execute_result"
    }
   ],
   "source": [
    "covidnig.head()"
   ]
  },
  {
   "cell_type": "code",
   "execution_count": 32,
   "id": "31cf0d37",
   "metadata": {},
   "outputs": [
    {
     "name": "stdout",
     "output_type": "stream",
     "text": [
      "<class 'pandas.core.frame.DataFrame'>\n",
      "RangeIndex: 37 entries, 0 to 36\n",
      "Data columns (total 5 columns):\n",
      " #   Column                        Non-Null Count  Dtype \n",
      "---  ------                        --------------  ----- \n",
      " 0   States Affected               37 non-null     object\n",
      " 1   No. of Cases (Lab Confirmed)  37 non-null     object\n",
      " 2   No. of Cases (on admission)   37 non-null     object\n",
      " 3   No. Discharged                37 non-null     object\n",
      " 4   No. of Deaths                 37 non-null     int64 \n",
      "dtypes: int64(1), object(4)\n",
      "memory usage: 1.6+ KB\n"
     ]
    }
   ],
   "source": [
    "covidnig.info()"
   ]
  },
  {
   "cell_type": "code",
   "execution_count": 33,
   "id": "b76caf33",
   "metadata": {},
   "outputs": [],
   "source": [
    "realGDP = pd.read_csv(\"RealGDP.csv\")"
   ]
  },
  {
   "cell_type": "code",
   "execution_count": 34,
   "id": "3a92c9f5",
   "metadata": {},
   "outputs": [
    {
     "data": {
      "text/html": [
       "<div>\n",
       "<style scoped>\n",
       "    .dataframe tbody tr th:only-of-type {\n",
       "        vertical-align: middle;\n",
       "    }\n",
       "\n",
       "    .dataframe tbody tr th {\n",
       "        vertical-align: top;\n",
       "    }\n",
       "\n",
       "    .dataframe thead th {\n",
       "        text-align: right;\n",
       "    }\n",
       "</style>\n",
       "<table border=\"1\" class=\"dataframe\">\n",
       "  <thead>\n",
       "    <tr style=\"text-align: right;\">\n",
       "      <th></th>\n",
       "      <th>Year</th>\n",
       "      <th>Q1</th>\n",
       "      <th>Q2</th>\n",
       "      <th>Q3</th>\n",
       "      <th>Q4</th>\n",
       "    </tr>\n",
       "  </thead>\n",
       "  <tbody>\n",
       "    <tr>\n",
       "      <th>0</th>\n",
       "      <td>2014</td>\n",
       "      <td>15438679.50</td>\n",
       "      <td>16084622.31</td>\n",
       "      <td>17479127.58</td>\n",
       "      <td>18150356.45</td>\n",
       "    </tr>\n",
       "    <tr>\n",
       "      <th>1</th>\n",
       "      <td>2015</td>\n",
       "      <td>16050601.38</td>\n",
       "      <td>16463341.91</td>\n",
       "      <td>17976234.59</td>\n",
       "      <td>18533752.07</td>\n",
       "    </tr>\n",
       "    <tr>\n",
       "      <th>2</th>\n",
       "      <td>2016</td>\n",
       "      <td>15943714.54</td>\n",
       "      <td>16218542.41</td>\n",
       "      <td>17555441.69</td>\n",
       "      <td>18213537.29</td>\n",
       "    </tr>\n",
       "    <tr>\n",
       "      <th>3</th>\n",
       "      <td>2017</td>\n",
       "      <td>15797965.83</td>\n",
       "      <td>16334719.27</td>\n",
       "      <td>17760228.17</td>\n",
       "      <td>18598067.07</td>\n",
       "    </tr>\n",
       "    <tr>\n",
       "      <th>4</th>\n",
       "      <td>2018</td>\n",
       "      <td>16096654.19</td>\n",
       "      <td>16580508.07</td>\n",
       "      <td>18081342.10</td>\n",
       "      <td>19041437.59</td>\n",
       "    </tr>\n",
       "    <tr>\n",
       "      <th>5</th>\n",
       "      <td>2019</td>\n",
       "      <td>16434552.65</td>\n",
       "      <td>16931434.89</td>\n",
       "      <td>18494114.17</td>\n",
       "      <td>19530000.00</td>\n",
       "    </tr>\n",
       "    <tr>\n",
       "      <th>6</th>\n",
       "      <td>2020</td>\n",
       "      <td>16740000.00</td>\n",
       "      <td>15890000.00</td>\n",
       "      <td>17820000.00</td>\n",
       "      <td>0.00</td>\n",
       "    </tr>\n",
       "  </tbody>\n",
       "</table>\n",
       "</div>"
      ],
      "text/plain": [
       "   Year           Q1           Q2           Q3           Q4\n",
       "0  2014  15438679.50  16084622.31  17479127.58  18150356.45\n",
       "1  2015  16050601.38  16463341.91  17976234.59  18533752.07\n",
       "2  2016  15943714.54  16218542.41  17555441.69  18213537.29\n",
       "3  2017  15797965.83  16334719.27  17760228.17  18598067.07\n",
       "4  2018  16096654.19  16580508.07  18081342.10  19041437.59\n",
       "5  2019  16434552.65  16931434.89  18494114.17  19530000.00\n",
       "6  2020  16740000.00  15890000.00  17820000.00         0.00"
      ]
     },
     "execution_count": 34,
     "metadata": {},
     "output_type": "execute_result"
    }
   ],
   "source": [
    "realGDP"
   ]
  },
  {
   "cell_type": "code",
   "execution_count": 35,
   "id": "9f7bd25e",
   "metadata": {},
   "outputs": [
    {
     "name": "stdout",
     "output_type": "stream",
     "text": [
      "<class 'pandas.core.frame.DataFrame'>\n",
      "RangeIndex: 7 entries, 0 to 6\n",
      "Data columns (total 5 columns):\n",
      " #   Column  Non-Null Count  Dtype  \n",
      "---  ------  --------------  -----  \n",
      " 0   Year    7 non-null      int64  \n",
      " 1   Q1      7 non-null      float64\n",
      " 2   Q2      7 non-null      float64\n",
      " 3   Q3      7 non-null      float64\n",
      " 4   Q4      7 non-null      float64\n",
      "dtypes: float64(4), int64(1)\n",
      "memory usage: 408.0 bytes\n"
     ]
    }
   ],
   "source": [
    "realGDP.info()"
   ]
  },
  {
   "cell_type": "code",
   "execution_count": 36,
   "id": "65421e9a",
   "metadata": {},
   "outputs": [
    {
     "name": "stdout",
     "output_type": "stream",
     "text": [
      "<class 'pandas.core.frame.DataFrame'>\n",
      "Int64Index: 37 entries, 0 to 36\n",
      "Data columns (total 5 columns):\n",
      " #   Column                        Non-Null Count  Dtype \n",
      "---  ------                        --------------  ----- \n",
      " 0   States Affected               37 non-null     object\n",
      " 1   No. of Cases (Lab Confirmed)  37 non-null     object\n",
      " 2   No. of Cases (on admission)   37 non-null     object\n",
      " 3   No. Discharged                37 non-null     object\n",
      " 4   No. of Deaths                 37 non-null     object\n",
      "dtypes: object(5)\n",
      "memory usage: 1.7+ KB\n"
     ]
    }
   ],
   "source": [
    "df.info()               #scrap data"
   ]
  },
  {
   "cell_type": "code",
   "execution_count": 37,
   "id": "56c6aa6f",
   "metadata": {},
   "outputs": [
    {
     "data": {
      "text/html": [
       "<div>\n",
       "<style scoped>\n",
       "    .dataframe tbody tr th:only-of-type {\n",
       "        vertical-align: middle;\n",
       "    }\n",
       "\n",
       "    .dataframe tbody tr th {\n",
       "        vertical-align: top;\n",
       "    }\n",
       "\n",
       "    .dataframe thead th {\n",
       "        text-align: right;\n",
       "    }\n",
       "</style>\n",
       "<table border=\"1\" class=\"dataframe\">\n",
       "  <thead>\n",
       "    <tr style=\"text-align: right;\">\n",
       "      <th></th>\n",
       "      <th>States Affected</th>\n",
       "      <th>No. of Cases (Lab Confirmed)</th>\n",
       "      <th>No. of Cases (on admission)</th>\n",
       "      <th>No. Discharged</th>\n",
       "      <th>No. of Deaths</th>\n",
       "    </tr>\n",
       "  </thead>\n",
       "  <tbody>\n",
       "    <tr>\n",
       "      <th>0</th>\n",
       "      <td>Lagos</td>\n",
       "      <td>104,286</td>\n",
       "      <td>1,143</td>\n",
       "      <td>102,372</td>\n",
       "      <td>771</td>\n",
       "    </tr>\n",
       "    <tr>\n",
       "      <th>1</th>\n",
       "      <td>FCT</td>\n",
       "      <td>29,535</td>\n",
       "      <td>9</td>\n",
       "      <td>29,277</td>\n",
       "      <td>249</td>\n",
       "    </tr>\n",
       "    <tr>\n",
       "      <th>2</th>\n",
       "      <td>Rivers</td>\n",
       "      <td>18,112</td>\n",
       "      <td>-3</td>\n",
       "      <td>17,960</td>\n",
       "      <td>155</td>\n",
       "    </tr>\n",
       "    <tr>\n",
       "      <th>3</th>\n",
       "      <td>Kaduna</td>\n",
       "      <td>11,675</td>\n",
       "      <td>3</td>\n",
       "      <td>11,583</td>\n",
       "      <td>89</td>\n",
       "    </tr>\n",
       "    <tr>\n",
       "      <th>4</th>\n",
       "      <td>Plateau</td>\n",
       "      <td>10,365</td>\n",
       "      <td>4</td>\n",
       "      <td>10,286</td>\n",
       "      <td>75</td>\n",
       "    </tr>\n",
       "  </tbody>\n",
       "</table>\n",
       "</div>"
      ],
      "text/plain": [
       "  States Affected No. of Cases (Lab Confirmed) No. of Cases (on admission)  \\\n",
       "0           Lagos                      104,286                       1,143   \n",
       "1             FCT                       29,535                           9   \n",
       "2          Rivers                       18,112                          -3   \n",
       "3          Kaduna                       11,675                           3   \n",
       "4         Plateau                       10,365                           4   \n",
       "\n",
       "  No. Discharged No. of Deaths  \n",
       "0        102,372           771  \n",
       "1         29,277           249  \n",
       "2         17,960           155  \n",
       "3         11,583            89  \n",
       "4         10,286            75  "
      ]
     },
     "execution_count": 37,
     "metadata": {},
     "output_type": "execute_result"
    }
   ],
   "source": [
    "df.head()"
   ]
  },
  {
   "cell_type": "markdown",
   "id": "59d4dcf1",
   "metadata": {},
   "source": [
    "##Data Cleaning and preparation"
   ]
  },
  {
   "cell_type": "code",
   "execution_count": 38,
   "id": "6a49d94e",
   "metadata": {},
   "outputs": [],
   "source": [
    "df = df.replace({',':'','-':'',' ':''},regex=True)               # scrap data cleaning"
   ]
  },
  {
   "cell_type": "code",
   "execution_count": 39,
   "id": "ff7af18b",
   "metadata": {},
   "outputs": [],
   "source": [
    "df = df.astype({'No. of Cases (Lab Confirmed)':'int','No. of Cases (on admission)':'int','No. Discharged':'int','No. of Deaths':'int'})"
   ]
  },
  {
   "cell_type": "code",
   "execution_count": 40,
   "id": "f2bf6149",
   "metadata": {},
   "outputs": [
    {
     "data": {
      "text/plain": [
       "States Affected                 object\n",
       "No. of Cases (Lab Confirmed)     int32\n",
       "No. of Cases (on admission)      int32\n",
       "No. Discharged                   int32\n",
       "No. of Deaths                    int32\n",
       "dtype: object"
      ]
     },
     "execution_count": 40,
     "metadata": {},
     "output_type": "execute_result"
    }
   ],
   "source": [
    "df.dtypes           # displaying the scrap dataset after converting to the appropriate datatype"
   ]
  },
  {
   "cell_type": "code",
   "execution_count": 41,
   "id": "6eb73462",
   "metadata": {},
   "outputs": [],
   "source": [
    "covidnig= covidnig.replace({',':'',' ':''},regex=True)               # Cleaning one of the external dataset"
   ]
  },
  {
   "cell_type": "code",
   "execution_count": 42,
   "id": "b51667f0",
   "metadata": {},
   "outputs": [],
   "source": [
    "covidnig=covidnig.astype({'No. of Cases (Lab Confirmed)':'int','No. of Cases (on admission)':'int','No. Discharged':'int','No. of Deaths':'int'})"
   ]
  },
  {
   "cell_type": "code",
   "execution_count": 43,
   "id": "205b4b74",
   "metadata": {},
   "outputs": [
    {
     "data": {
      "text/plain": [
       "States Affected                 object\n",
       "No. of Cases (Lab Confirmed)     int32\n",
       "No. of Cases (on admission)      int32\n",
       "No. Discharged                   int32\n",
       "No. of Deaths                    int32\n",
       "dtype: object"
      ]
     },
     "execution_count": 43,
     "metadata": {},
     "output_type": "execute_result"
    }
   ],
   "source": [
    "covidnig.dtypes      # displaying the external dataset after convert the external dataset to the appropriate datatype"
   ]
  },
  {
   "cell_type": "markdown",
   "id": "9f0bfbac",
   "metadata": {},
   "source": [
    "##Extract daily data for Nigeria from the Global daily cases data "
   ]
  },
  {
   "cell_type": "code",
   "execution_count": 44,
   "id": "ba682711",
   "metadata": {},
   "outputs": [],
   "source": [
    "Daily_confirmed =daily_confirmed_cases.drop(['Province/State','Lat','Long'], axis=1)"
   ]
  },
  {
   "cell_type": "code",
   "execution_count": 45,
   "id": "6a4c5f6f",
   "metadata": {},
   "outputs": [],
   "source": [
    "Daily_confirmed=(Daily_confirmed.groupby('Country/Region').sum().loc[\"Nigeria\"]).to_frame().reset_index()"
   ]
  },
  {
   "cell_type": "code",
   "execution_count": 46,
   "id": "d20b7136",
   "metadata": {},
   "outputs": [],
   "source": [
    "Daily_confirmed.columns=['Date','Cases']"
   ]
  },
  {
   "cell_type": "code",
   "execution_count": 47,
   "id": "fc462562",
   "metadata": {},
   "outputs": [
    {
     "data": {
      "text/html": [
       "<div>\n",
       "<style scoped>\n",
       "    .dataframe tbody tr th:only-of-type {\n",
       "        vertical-align: middle;\n",
       "    }\n",
       "\n",
       "    .dataframe tbody tr th {\n",
       "        vertical-align: top;\n",
       "    }\n",
       "\n",
       "    .dataframe thead th {\n",
       "        text-align: right;\n",
       "    }\n",
       "</style>\n",
       "<table border=\"1\" class=\"dataframe\">\n",
       "  <thead>\n",
       "    <tr style=\"text-align: right;\">\n",
       "      <th></th>\n",
       "      <th>Date</th>\n",
       "      <th>Cases</th>\n",
       "    </tr>\n",
       "  </thead>\n",
       "  <tbody>\n",
       "    <tr>\n",
       "      <th>0</th>\n",
       "      <td>1/22/20</td>\n",
       "      <td>0</td>\n",
       "    </tr>\n",
       "    <tr>\n",
       "      <th>1</th>\n",
       "      <td>1/23/20</td>\n",
       "      <td>0</td>\n",
       "    </tr>\n",
       "    <tr>\n",
       "      <th>2</th>\n",
       "      <td>1/24/20</td>\n",
       "      <td>0</td>\n",
       "    </tr>\n",
       "    <tr>\n",
       "      <th>3</th>\n",
       "      <td>1/25/20</td>\n",
       "      <td>0</td>\n",
       "    </tr>\n",
       "    <tr>\n",
       "      <th>4</th>\n",
       "      <td>1/26/20</td>\n",
       "      <td>0</td>\n",
       "    </tr>\n",
       "    <tr>\n",
       "      <th>...</th>\n",
       "      <td>...</td>\n",
       "      <td>...</td>\n",
       "    </tr>\n",
       "    <tr>\n",
       "      <th>1138</th>\n",
       "      <td>3/5/23</td>\n",
       "      <td>266598</td>\n",
       "    </tr>\n",
       "    <tr>\n",
       "      <th>1139</th>\n",
       "      <td>3/6/23</td>\n",
       "      <td>266598</td>\n",
       "    </tr>\n",
       "    <tr>\n",
       "      <th>1140</th>\n",
       "      <td>3/7/23</td>\n",
       "      <td>266598</td>\n",
       "    </tr>\n",
       "    <tr>\n",
       "      <th>1141</th>\n",
       "      <td>3/8/23</td>\n",
       "      <td>266598</td>\n",
       "    </tr>\n",
       "    <tr>\n",
       "      <th>1142</th>\n",
       "      <td>3/9/23</td>\n",
       "      <td>266598</td>\n",
       "    </tr>\n",
       "  </tbody>\n",
       "</table>\n",
       "<p>1143 rows × 2 columns</p>\n",
       "</div>"
      ],
      "text/plain": [
       "         Date   Cases\n",
       "0     1/22/20       0\n",
       "1     1/23/20       0\n",
       "2     1/24/20       0\n",
       "3     1/25/20       0\n",
       "4     1/26/20       0\n",
       "...       ...     ...\n",
       "1138   3/5/23  266598\n",
       "1139   3/6/23  266598\n",
       "1140   3/7/23  266598\n",
       "1141   3/8/23  266598\n",
       "1142   3/9/23  266598\n",
       "\n",
       "[1143 rows x 2 columns]"
      ]
     },
     "execution_count": 47,
     "metadata": {},
     "output_type": "execute_result"
    }
   ],
   "source": [
    "Daily_confirmed"
   ]
  },
  {
   "cell_type": "code",
   "execution_count": 48,
   "id": "e4f24b78",
   "metadata": {},
   "outputs": [],
   "source": [
    "Daily_confirmed['Date']=pd.to_datetime(Daily_confirmed.Date)  # Convert the Date column to datetime"
   ]
  },
  {
   "cell_type": "code",
   "execution_count": 49,
   "id": "08edc4a1",
   "metadata": {},
   "outputs": [
    {
     "data": {
      "text/html": [
       "<div>\n",
       "<style scoped>\n",
       "    .dataframe tbody tr th:only-of-type {\n",
       "        vertical-align: middle;\n",
       "    }\n",
       "\n",
       "    .dataframe tbody tr th {\n",
       "        vertical-align: top;\n",
       "    }\n",
       "\n",
       "    .dataframe thead th {\n",
       "        text-align: right;\n",
       "    }\n",
       "</style>\n",
       "<table border=\"1\" class=\"dataframe\">\n",
       "  <thead>\n",
       "    <tr style=\"text-align: right;\">\n",
       "      <th></th>\n",
       "      <th>Date</th>\n",
       "      <th>Cases</th>\n",
       "    </tr>\n",
       "  </thead>\n",
       "  <tbody>\n",
       "    <tr>\n",
       "      <th>0</th>\n",
       "      <td>2020-01-22</td>\n",
       "      <td>0</td>\n",
       "    </tr>\n",
       "    <tr>\n",
       "      <th>1</th>\n",
       "      <td>2020-01-23</td>\n",
       "      <td>0</td>\n",
       "    </tr>\n",
       "    <tr>\n",
       "      <th>2</th>\n",
       "      <td>2020-01-24</td>\n",
       "      <td>0</td>\n",
       "    </tr>\n",
       "    <tr>\n",
       "      <th>3</th>\n",
       "      <td>2020-01-25</td>\n",
       "      <td>0</td>\n",
       "    </tr>\n",
       "    <tr>\n",
       "      <th>4</th>\n",
       "      <td>2020-01-26</td>\n",
       "      <td>0</td>\n",
       "    </tr>\n",
       "    <tr>\n",
       "      <th>...</th>\n",
       "      <td>...</td>\n",
       "      <td>...</td>\n",
       "    </tr>\n",
       "    <tr>\n",
       "      <th>1138</th>\n",
       "      <td>2023-03-05</td>\n",
       "      <td>266598</td>\n",
       "    </tr>\n",
       "    <tr>\n",
       "      <th>1139</th>\n",
       "      <td>2023-03-06</td>\n",
       "      <td>266598</td>\n",
       "    </tr>\n",
       "    <tr>\n",
       "      <th>1140</th>\n",
       "      <td>2023-03-07</td>\n",
       "      <td>266598</td>\n",
       "    </tr>\n",
       "    <tr>\n",
       "      <th>1141</th>\n",
       "      <td>2023-03-08</td>\n",
       "      <td>266598</td>\n",
       "    </tr>\n",
       "    <tr>\n",
       "      <th>1142</th>\n",
       "      <td>2023-03-09</td>\n",
       "      <td>266598</td>\n",
       "    </tr>\n",
       "  </tbody>\n",
       "</table>\n",
       "<p>1143 rows × 2 columns</p>\n",
       "</div>"
      ],
      "text/plain": [
       "           Date   Cases\n",
       "0    2020-01-22       0\n",
       "1    2020-01-23       0\n",
       "2    2020-01-24       0\n",
       "3    2020-01-25       0\n",
       "4    2020-01-26       0\n",
       "...         ...     ...\n",
       "1138 2023-03-05  266598\n",
       "1139 2023-03-06  266598\n",
       "1140 2023-03-07  266598\n",
       "1141 2023-03-08  266598\n",
       "1142 2023-03-09  266598\n",
       "\n",
       "[1143 rows x 2 columns]"
      ]
     },
     "execution_count": 49,
     "metadata": {},
     "output_type": "execute_result"
    }
   ],
   "source": [
    "Daily_confirmed"
   ]
  },
  {
   "cell_type": "code",
   "execution_count": 50,
   "id": "60aa2f86",
   "metadata": {},
   "outputs": [],
   "source": [
    "Daily_recovered= daily_recovered_cases.drop(['Province/State','Lat','Long'], axis=1)"
   ]
  },
  {
   "cell_type": "code",
   "execution_count": 51,
   "id": "e4c97a03",
   "metadata": {},
   "outputs": [],
   "source": [
    "Daily_recovered=(Daily_recovered.groupby('Country/Region').sum().loc[\"Nigeria\"]).to_frame().reset_index()"
   ]
  },
  {
   "cell_type": "code",
   "execution_count": 52,
   "id": "b5cc20f1",
   "metadata": {},
   "outputs": [],
   "source": [
    "Daily_recovered.columns=['Date','Cases']"
   ]
  },
  {
   "cell_type": "code",
   "execution_count": 53,
   "id": "90fb2ddf",
   "metadata": {},
   "outputs": [],
   "source": [
    "Daily_recovered['Date']=pd.to_datetime(Daily_confirmed.Date) # Convert the Date column to datetime"
   ]
  },
  {
   "cell_type": "code",
   "execution_count": 54,
   "id": "cd38b46b",
   "metadata": {},
   "outputs": [
    {
     "data": {
      "text/html": [
       "<div>\n",
       "<style scoped>\n",
       "    .dataframe tbody tr th:only-of-type {\n",
       "        vertical-align: middle;\n",
       "    }\n",
       "\n",
       "    .dataframe tbody tr th {\n",
       "        vertical-align: top;\n",
       "    }\n",
       "\n",
       "    .dataframe thead th {\n",
       "        text-align: right;\n",
       "    }\n",
       "</style>\n",
       "<table border=\"1\" class=\"dataframe\">\n",
       "  <thead>\n",
       "    <tr style=\"text-align: right;\">\n",
       "      <th></th>\n",
       "      <th>Date</th>\n",
       "      <th>Cases</th>\n",
       "    </tr>\n",
       "  </thead>\n",
       "  <tbody>\n",
       "    <tr>\n",
       "      <th>0</th>\n",
       "      <td>2020-01-22</td>\n",
       "      <td>0</td>\n",
       "    </tr>\n",
       "    <tr>\n",
       "      <th>1</th>\n",
       "      <td>2020-01-23</td>\n",
       "      <td>0</td>\n",
       "    </tr>\n",
       "    <tr>\n",
       "      <th>2</th>\n",
       "      <td>2020-01-24</td>\n",
       "      <td>0</td>\n",
       "    </tr>\n",
       "    <tr>\n",
       "      <th>3</th>\n",
       "      <td>2020-01-25</td>\n",
       "      <td>0</td>\n",
       "    </tr>\n",
       "    <tr>\n",
       "      <th>4</th>\n",
       "      <td>2020-01-26</td>\n",
       "      <td>0</td>\n",
       "    </tr>\n",
       "    <tr>\n",
       "      <th>...</th>\n",
       "      <td>...</td>\n",
       "      <td>...</td>\n",
       "    </tr>\n",
       "    <tr>\n",
       "      <th>1138</th>\n",
       "      <td>2023-03-05</td>\n",
       "      <td>0</td>\n",
       "    </tr>\n",
       "    <tr>\n",
       "      <th>1139</th>\n",
       "      <td>2023-03-06</td>\n",
       "      <td>0</td>\n",
       "    </tr>\n",
       "    <tr>\n",
       "      <th>1140</th>\n",
       "      <td>2023-03-07</td>\n",
       "      <td>0</td>\n",
       "    </tr>\n",
       "    <tr>\n",
       "      <th>1141</th>\n",
       "      <td>2023-03-08</td>\n",
       "      <td>0</td>\n",
       "    </tr>\n",
       "    <tr>\n",
       "      <th>1142</th>\n",
       "      <td>2023-03-09</td>\n",
       "      <td>0</td>\n",
       "    </tr>\n",
       "  </tbody>\n",
       "</table>\n",
       "<p>1143 rows × 2 columns</p>\n",
       "</div>"
      ],
      "text/plain": [
       "           Date  Cases\n",
       "0    2020-01-22      0\n",
       "1    2020-01-23      0\n",
       "2    2020-01-24      0\n",
       "3    2020-01-25      0\n",
       "4    2020-01-26      0\n",
       "...         ...    ...\n",
       "1138 2023-03-05      0\n",
       "1139 2023-03-06      0\n",
       "1140 2023-03-07      0\n",
       "1141 2023-03-08      0\n",
       "1142 2023-03-09      0\n",
       "\n",
       "[1143 rows x 2 columns]"
      ]
     },
     "execution_count": 54,
     "metadata": {},
     "output_type": "execute_result"
    }
   ],
   "source": [
    "Daily_recovered"
   ]
  },
  {
   "cell_type": "code",
   "execution_count": 55,
   "id": "f3403458",
   "metadata": {},
   "outputs": [],
   "source": [
    "Daily_death = daily_death_cases.drop(['Province/State','Lat','Long'], axis=1)"
   ]
  },
  {
   "cell_type": "code",
   "execution_count": 56,
   "id": "40d40aa5",
   "metadata": {},
   "outputs": [],
   "source": [
    "Daily_death=(Daily_death.groupby('Country/Region').sum().loc[\"Nigeria\"]).to_frame().reset_index()"
   ]
  },
  {
   "cell_type": "code",
   "execution_count": 57,
   "id": "d09dab07",
   "metadata": {},
   "outputs": [],
   "source": [
    "Daily_death.columns=['Date','Cases']"
   ]
  },
  {
   "cell_type": "code",
   "execution_count": 58,
   "id": "34da05df",
   "metadata": {},
   "outputs": [],
   "source": [
    "Daily_death['Date']=pd.to_datetime(Daily_death.Date) # Convert the Date column to datetime"
   ]
  },
  {
   "cell_type": "code",
   "execution_count": 59,
   "id": "e687c247",
   "metadata": {},
   "outputs": [
    {
     "data": {
      "text/html": [
       "<div>\n",
       "<style scoped>\n",
       "    .dataframe tbody tr th:only-of-type {\n",
       "        vertical-align: middle;\n",
       "    }\n",
       "\n",
       "    .dataframe tbody tr th {\n",
       "        vertical-align: top;\n",
       "    }\n",
       "\n",
       "    .dataframe thead th {\n",
       "        text-align: right;\n",
       "    }\n",
       "</style>\n",
       "<table border=\"1\" class=\"dataframe\">\n",
       "  <thead>\n",
       "    <tr style=\"text-align: right;\">\n",
       "      <th></th>\n",
       "      <th>Date</th>\n",
       "      <th>Cases</th>\n",
       "    </tr>\n",
       "  </thead>\n",
       "  <tbody>\n",
       "    <tr>\n",
       "      <th>0</th>\n",
       "      <td>2020-01-22</td>\n",
       "      <td>0</td>\n",
       "    </tr>\n",
       "    <tr>\n",
       "      <th>1</th>\n",
       "      <td>2020-01-23</td>\n",
       "      <td>0</td>\n",
       "    </tr>\n",
       "    <tr>\n",
       "      <th>2</th>\n",
       "      <td>2020-01-24</td>\n",
       "      <td>0</td>\n",
       "    </tr>\n",
       "    <tr>\n",
       "      <th>3</th>\n",
       "      <td>2020-01-25</td>\n",
       "      <td>0</td>\n",
       "    </tr>\n",
       "    <tr>\n",
       "      <th>4</th>\n",
       "      <td>2020-01-26</td>\n",
       "      <td>0</td>\n",
       "    </tr>\n",
       "    <tr>\n",
       "      <th>...</th>\n",
       "      <td>...</td>\n",
       "      <td>...</td>\n",
       "    </tr>\n",
       "    <tr>\n",
       "      <th>1138</th>\n",
       "      <td>2023-03-05</td>\n",
       "      <td>3155</td>\n",
       "    </tr>\n",
       "    <tr>\n",
       "      <th>1139</th>\n",
       "      <td>2023-03-06</td>\n",
       "      <td>3155</td>\n",
       "    </tr>\n",
       "    <tr>\n",
       "      <th>1140</th>\n",
       "      <td>2023-03-07</td>\n",
       "      <td>3155</td>\n",
       "    </tr>\n",
       "    <tr>\n",
       "      <th>1141</th>\n",
       "      <td>2023-03-08</td>\n",
       "      <td>3155</td>\n",
       "    </tr>\n",
       "    <tr>\n",
       "      <th>1142</th>\n",
       "      <td>2023-03-09</td>\n",
       "      <td>3155</td>\n",
       "    </tr>\n",
       "  </tbody>\n",
       "</table>\n",
       "<p>1143 rows × 2 columns</p>\n",
       "</div>"
      ],
      "text/plain": [
       "           Date  Cases\n",
       "0    2020-01-22      0\n",
       "1    2020-01-23      0\n",
       "2    2020-01-24      0\n",
       "3    2020-01-25      0\n",
       "4    2020-01-26      0\n",
       "...         ...    ...\n",
       "1138 2023-03-05   3155\n",
       "1139 2023-03-06   3155\n",
       "1140 2023-03-07   3155\n",
       "1141 2023-03-08   3155\n",
       "1142 2023-03-09   3155\n",
       "\n",
       "[1143 rows x 2 columns]"
      ]
     },
     "execution_count": 59,
     "metadata": {},
     "output_type": "execute_result"
    }
   ],
   "source": [
    "Daily_death"
   ]
  },
  {
   "cell_type": "markdown",
   "id": "09c5abc4",
   "metadata": {},
   "source": [
    "# ANALYSIS"
   ]
  },
  {
   "cell_type": "code",
   "execution_count": 60,
   "id": "c138c332",
   "metadata": {},
   "outputs": [],
   "source": [
    "lab_case=df.sort_values(by='No. of Cases (Lab Confirmed)',ascending=False).head(10)"
   ]
  },
  {
   "cell_type": "code",
   "execution_count": 61,
   "id": "21474c50",
   "metadata": {},
   "outputs": [
    {
     "data": {
      "image/png": "[encoded data removed]",
      "text/plain": [
       "<Figure size 640x480 with 1 Axes>"
      ]
     },
     "metadata": {},
     "output_type": "display_data"
    }
   ],
   "source": [
    "sns.barplot(x='No. of Cases (Lab Confirmed)', y='States Affected',data=lab_case)\n",
    "plt.title('Top 10 states in terms of Confirmed Covid cases by Laboratory test')\n",
    "plt.show()\n",
    "\n",
    "          #Top 10 states in terms of Confirmed Covid cases by Laboratory test"
   ]
  },
  {
   "cell_type": "code",
   "execution_count": 62,
   "id": "9efb338d",
   "metadata": {},
   "outputs": [],
   "source": [
    "discharged =df.sort_values(by='No. Discharged',ascending=False).head(10)"
   ]
  },
  {
   "cell_type": "code",
   "execution_count": 63,
   "id": "156999f7",
   "metadata": {},
   "outputs": [
    {
     "data": {
      "image/png": "[encoded data removed]",
      "text/plain": [
       "<Figure size 640x480 with 1 Axes>"
      ]
     },
     "metadata": {},
     "output_type": "display_data"
    }
   ],
   "source": [
    "sns.barplot(x='No. Discharged', y='States Affected',data=discharged) \n",
    "plt.title('Top 10 states in terms of Discharged Covid cases')\n",
    "plt.show()\n",
    "#Top 10 states in terms of Discharged Covid cases"
   ]
  },
  {
   "cell_type": "code",
   "execution_count": 64,
   "id": "8934d469",
   "metadata": {},
   "outputs": [],
   "source": [
    "dead =df.sort_values(by='No. of Deaths',ascending=False).head(10)"
   ]
  },
  {
   "cell_type": "code",
   "execution_count": 65,
   "id": "0da80bca",
   "metadata": {},
   "outputs": [
    {
     "data": {
      "image/png": "[encoded data removed]",
      "text/plain": [
       "<Figure size 640x480 with 1 Axes>"
      ]
     },
     "metadata": {},
     "output_type": "display_data"
    }
   ],
   "source": [
    "sns.barplot(x='No. of Deaths', y='States Affected',data=discharged)\n",
    "plt.title('TOP 10 states in terms of Death cases ') \n",
    "plt.show()                                                                 # TOP 10 Death cases"
   ]
  },
  {
   "cell_type": "markdown",
   "id": "5ccc5c70",
   "metadata": {},
   "source": [
    "### Lagos has the higest figure in term of covid confirmed cases (lab test),discharge cases and dealth cases\n"
   ]
  },
  {
   "cell_type": "code",
   "execution_count": 66,
   "id": "67ef4079",
   "metadata": {},
   "outputs": [
    {
     "data": {
      "image/png": "[encoded data removed]",
      "text/plain": [
       "<Figure size 640x480 with 1 Axes>"
      ]
     },
     "metadata": {},
     "output_type": "display_data"
    }
   ],
   "source": [
    "plt.plot(Daily_confirmed.Date, Daily_confirmed.Cases )\n",
    "plt.plot(Daily_recovered.Date, Daily_recovered.Cases)\n",
    "plt.plot(Daily_death.Date,  Daily_death.Cases)\n",
    "plt.xlabel(\"Date\")\n",
    "plt.ylabel(\"Cases\")\n",
    "plt.xticks(rotation=65)\n",
    "plt.legend(['daily_cases','recovered_case','death_cases'])\n",
    "plt.title(\"plot for the total daily confirmed, recovered and death cases in Nigeria\")\n",
    "plt.show()"
   ]
  },
  {
   "cell_type": "code",
   "execution_count": 67,
   "id": "c3295348",
   "metadata": {},
   "outputs": [],
   "source": [
    "daily_infection_rate_1=Daily_confirmed['Cases'].diff()"
   ]
  },
  {
   "cell_type": "code",
   "execution_count": 68,
   "id": "89102a3e",
   "metadata": {},
   "outputs": [
    {
     "data": {
      "text/plain": [
       "0       NaN\n",
       "1       0.0\n",
       "2       0.0\n",
       "3       0.0\n",
       "4       0.0\n",
       "       ... \n",
       "1138    0.0\n",
       "1139    0.0\n",
       "1140    0.0\n",
       "1141    0.0\n",
       "1142    0.0\n",
       "Name: Cases, Length: 1143, dtype: float64"
      ]
     },
     "execution_count": 68,
     "metadata": {},
     "output_type": "execute_result"
    }
   ],
   "source": [
    "daily_infection_rate_1"
   ]
  },
  {
   "cell_type": "code",
   "execution_count": 69,
   "id": "32bbe217",
   "metadata": {},
   "outputs": [
    {
     "data": {
      "image/png": "[encoded data removed]",
      "text/plain": [
       "<Figure size 640x480 with 1 Axes>"
      ]
     },
     "metadata": {},
     "output_type": "display_data"
    }
   ],
   "source": [
    "plt.plot(Daily_confirmed.Date, daily_infection_rate_1)\n",
    "plt.title(\"Daily infection rate\")\n",
    "plt.xlabel('Date')\n",
    "plt.xticks(rotation=65)\n",
    "plt.ylabel(\"case_rate\")\n",
    "plt.show()"
   ]
  },
  {
   "cell_type": "code",
   "execution_count": 70,
   "id": "3cc0ec7d",
   "metadata": {},
   "outputs": [
    {
     "data": {
      "text/plain": [
       "6158.0"
      ]
     },
     "execution_count": 70,
     "metadata": {},
     "output_type": "execute_result"
    }
   ],
   "source": [
    "daily_infection_rate_1.max()    #maximum infection rate for a day is 6158 and the date 2022-01"
   ]
  },
  {
   "cell_type": "markdown",
   "id": "235f75db",
   "metadata": {},
   "source": [
    "* maximum infection rate for a day is 6158 and the date 2022-01"
   ]
  },
  {
   "cell_type": "code",
   "execution_count": 71,
   "id": "21ffed3e",
   "metadata": {},
   "outputs": [],
   "source": [
    "cov_external=covid_external.rename(columns={\"states\":\"States Affected\"}) #renaming a column for the merge"
   ]
  },
  {
   "cell_type": "code",
   "execution_count": 72,
   "id": "f3d27420",
   "metadata": {},
   "outputs": [],
   "source": [
    "merge_data = cov_external.merge(df)"
   ]
  },
  {
   "cell_type": "code",
   "execution_count": 73,
   "id": "42e63829",
   "metadata": {},
   "outputs": [
    {
     "data": {
      "text/html": [
       "<div>\n",
       "<style scoped>\n",
       "    .dataframe tbody tr th:only-of-type {\n",
       "        vertical-align: middle;\n",
       "    }\n",
       "\n",
       "    .dataframe tbody tr th {\n",
       "        vertical-align: top;\n",
       "    }\n",
       "\n",
       "    .dataframe thead th {\n",
       "        text-align: right;\n",
       "    }\n",
       "</style>\n",
       "<table border=\"1\" class=\"dataframe\">\n",
       "  <thead>\n",
       "    <tr style=\"text-align: right;\">\n",
       "      <th></th>\n",
       "      <th>States Affected</th>\n",
       "      <th>region</th>\n",
       "      <th>Population</th>\n",
       "      <th>Overall CCVI Index</th>\n",
       "      <th>Age</th>\n",
       "      <th>Epidemiological</th>\n",
       "      <th>Fragility</th>\n",
       "      <th>Health System</th>\n",
       "      <th>Population Density</th>\n",
       "      <th>Socio-Economic</th>\n",
       "      <th>Transport Availability</th>\n",
       "      <th>Acute IHR</th>\n",
       "      <th>No. of Cases (Lab Confirmed)</th>\n",
       "      <th>No. of Cases (on admission)</th>\n",
       "      <th>No. Discharged</th>\n",
       "      <th>No. of Deaths</th>\n",
       "    </tr>\n",
       "  </thead>\n",
       "  <tbody>\n",
       "    <tr>\n",
       "      <th>0</th>\n",
       "      <td>FCT</td>\n",
       "      <td>North Central</td>\n",
       "      <td>4865000</td>\n",
       "      <td>0.3</td>\n",
       "      <td>0.0</td>\n",
       "      <td>0.9</td>\n",
       "      <td>0.4</td>\n",
       "      <td>0.6</td>\n",
       "      <td>0.9</td>\n",
       "      <td>0.6</td>\n",
       "      <td>0.2</td>\n",
       "      <td>0.79</td>\n",
       "      <td>29535</td>\n",
       "      <td>9</td>\n",
       "      <td>29277</td>\n",
       "      <td>249</td>\n",
       "    </tr>\n",
       "    <tr>\n",
       "      <th>1</th>\n",
       "      <td>Plateau</td>\n",
       "      <td>North Central</td>\n",
       "      <td>4766000</td>\n",
       "      <td>0.4</td>\n",
       "      <td>0.5</td>\n",
       "      <td>0.4</td>\n",
       "      <td>0.8</td>\n",
       "      <td>0.3</td>\n",
       "      <td>0.3</td>\n",
       "      <td>0.5</td>\n",
       "      <td>0.3</td>\n",
       "      <td>0.93</td>\n",
       "      <td>10365</td>\n",
       "      <td>4</td>\n",
       "      <td>10286</td>\n",
       "      <td>75</td>\n",
       "    </tr>\n",
       "  </tbody>\n",
       "</table>\n",
       "</div>"
      ],
      "text/plain": [
       "  States Affected         region  Population  Overall CCVI Index  Age  \\\n",
       "0             FCT  North Central     4865000                 0.3  0.0   \n",
       "1         Plateau  North Central     4766000                 0.4  0.5   \n",
       "\n",
       "   Epidemiological  Fragility  Health System  Population Density  \\\n",
       "0              0.9        0.4            0.6                 0.9   \n",
       "1              0.4        0.8            0.3                 0.3   \n",
       "\n",
       "   Socio-Economic   Transport Availability  Acute IHR  \\\n",
       "0             0.6                      0.2       0.79   \n",
       "1             0.5                      0.3       0.93   \n",
       "\n",
       "   No. of Cases (Lab Confirmed)  No. of Cases (on admission)  No. Discharged  \\\n",
       "0                         29535                            9           29277   \n",
       "1                         10365                            4           10286   \n",
       "\n",
       "   No. of Deaths  \n",
       "0            249  \n",
       "1             75  "
      ]
     },
     "execution_count": 73,
     "metadata": {},
     "output_type": "execute_result"
    }
   ],
   "source": [
    "merge_data.head(2)"
   ]
  },
  {
   "cell_type": "code",
   "execution_count": 74,
   "id": "22309d2f",
   "metadata": {},
   "outputs": [],
   "source": [
    "merge_data_1=merge_data.nlargest(10,\"No. of Cases (Lab Confirmed)\")[[\"States Affected\",\"No. of Cases (Lab Confirmed)\",\"Overall CCVI Index\"]].set_index(\"States Affected\")"
   ]
  },
  {
   "cell_type": "code",
   "execution_count": 75,
   "id": "680b06ac",
   "metadata": {},
   "outputs": [
    {
     "data": {
      "text/html": [
       "<div>\n",
       "<style scoped>\n",
       "    .dataframe tbody tr th:only-of-type {\n",
       "        vertical-align: middle;\n",
       "    }\n",
       "\n",
       "    .dataframe tbody tr th {\n",
       "        vertical-align: top;\n",
       "    }\n",
       "\n",
       "    .dataframe thead th {\n",
       "        text-align: right;\n",
       "    }\n",
       "</style>\n",
       "<table border=\"1\" class=\"dataframe\">\n",
       "  <thead>\n",
       "    <tr style=\"text-align: right;\">\n",
       "      <th></th>\n",
       "      <th>No. of Cases (Lab Confirmed)</th>\n",
       "      <th>Overall CCVI Index</th>\n",
       "    </tr>\n",
       "    <tr>\n",
       "      <th>States Affected</th>\n",
       "      <th></th>\n",
       "      <th></th>\n",
       "    </tr>\n",
       "  </thead>\n",
       "  <tbody>\n",
       "    <tr>\n",
       "      <th>Lagos</th>\n",
       "      <td>104286</td>\n",
       "      <td>0.0</td>\n",
       "    </tr>\n",
       "    <tr>\n",
       "      <th>FCT</th>\n",
       "      <td>29535</td>\n",
       "      <td>0.3</td>\n",
       "    </tr>\n",
       "    <tr>\n",
       "      <th>Rivers</th>\n",
       "      <td>18112</td>\n",
       "      <td>0.4</td>\n",
       "    </tr>\n",
       "    <tr>\n",
       "      <th>Kaduna</th>\n",
       "      <td>11675</td>\n",
       "      <td>0.7</td>\n",
       "    </tr>\n",
       "    <tr>\n",
       "      <th>Plateau</th>\n",
       "      <td>10365</td>\n",
       "      <td>0.4</td>\n",
       "    </tr>\n",
       "    <tr>\n",
       "      <th>Oyo</th>\n",
       "      <td>10352</td>\n",
       "      <td>0.2</td>\n",
       "    </tr>\n",
       "    <tr>\n",
       "      <th>Edo</th>\n",
       "      <td>7928</td>\n",
       "      <td>0.1</td>\n",
       "    </tr>\n",
       "    <tr>\n",
       "      <th>Delta</th>\n",
       "      <td>5858</td>\n",
       "      <td>0.4</td>\n",
       "    </tr>\n",
       "    <tr>\n",
       "      <th>Ogun</th>\n",
       "      <td>5810</td>\n",
       "      <td>0.3</td>\n",
       "    </tr>\n",
       "    <tr>\n",
       "      <th>Kano</th>\n",
       "      <td>5429</td>\n",
       "      <td>0.6</td>\n",
       "    </tr>\n",
       "  </tbody>\n",
       "</table>\n",
       "</div>"
      ],
      "text/plain": [
       "                 No. of Cases (Lab Confirmed)  Overall CCVI Index\n",
       "States Affected                                                  \n",
       "Lagos                                  104286                 0.0\n",
       "FCT                                     29535                 0.3\n",
       "Rivers                                  18112                 0.4\n",
       "Kaduna                                  11675                 0.7\n",
       "Plateau                                 10365                 0.4\n",
       "Oyo                                     10352                 0.2\n",
       "Edo                                      7928                 0.1\n",
       "Delta                                    5858                 0.4\n",
       "Ogun                                     5810                 0.3\n",
       "Kano                                     5429                 0.6"
      ]
     },
     "execution_count": 75,
     "metadata": {},
     "output_type": "execute_result"
    }
   ],
   "source": [
    "merge_data_1"
   ]
  },
  {
   "cell_type": "code",
   "execution_count": 78,
   "id": "3c27914f",
   "metadata": {},
   "outputs": [
    {
     "data": {
      "image/png": "[encoded data removed]",
      "text/plain": [
       "<Figure size 640x480 with 2 Axes>"
      ]
     },
     "metadata": {},
     "output_type": "display_data"
    }
   ],
   "source": [
    "fig, ax1 =plt.subplots()\n",
    "ax1.plot(merge_data_1.index, merge_data_1['No. of Cases (Lab Confirmed)'],label=\"Comfirmed case\", color=\"blue\")\n",
    "ax2=ax1.twinx()\n",
    "ax2.plot(merge_data_1.index, merge_data_1['Overall CCVI Index'],label=\"CCVI Index\", color=\"red\")\n",
    "plt.xticks(rotation=70)\n",
    "plt.title(\"Top Ten Confirmed cases and Overall CCVI Index\")\n",
    "plt.legend()\n",
    "\n",
    "plt.show()\n"
   ]
  },
  {
   "cell_type": "markdown",
   "id": "36105935",
   "metadata": {},
   "source": [
    "* The is no correlation between the confirmed case and overall CCVI index\n",
    "* Lagos with the highest number of confirmed cases and has the least overall CCVI index\n",
    "* Where the confirmed cases is higher the overall CCVI index was low.\n",
    "* Kaduna with lower confirmed case has a higher Overall CCVI index\n",
    "* The overall CCVI index keeps fluctating amonge the states"
   ]
  },
  {
   "cell_type": "code",
   "execution_count": 77,
   "id": "575737b7",
   "metadata": {},
   "outputs": [
    {
     "data": {
      "image/png": "[encoded data removed]",
      "text/plain": [
       "<Figure size 640x480 with 1 Axes>"
      ]
     },
     "metadata": {},
     "output_type": "display_data"
    }
   ],
   "source": [
    "sns.regplot(x= merge_data['No. of Cases (Lab Confirmed)'], y=merge_data['Population'],ci=None)\n",
    "plt.xlabel(\"Confirmed case\")\n",
    "plt.ylabel(\"Population Density\")\n",
    "plt.title(\"Relationship between confirmed case and Population Density\")\n",
    "plt.show()"
   ]
  },
  {
   "cell_type": "markdown",
   "id": "d7d654f9",
   "metadata": {},
   "source": [
    "* There is a linear relationship between the population density and the confirmed cases.\n",
    "* There higher the population density, the more the number of confirmed cases.\n",
    "* However,there are few outliers"
   ]
  },
  {
   "cell_type": "code",
   "execution_count": 79,
   "id": "4ab52a88",
   "metadata": {},
   "outputs": [
    {
     "data": {
      "text/plain": [
       "233.44833625218914"
      ]
     },
     "execution_count": 79,
     "metadata": {},
     "output_type": "execute_result"
    }
   ],
   "source": [
    "daily_infection_rate_1.mean()       # Average daily_infection_rate"
   ]
  },
  {
   "cell_type": "code",
   "execution_count": 80,
   "id": "11497d69",
   "metadata": {},
   "outputs": [],
   "source": [
    "Daily_recovered_1 = Daily_recovered['Cases'].diff()"
   ]
  },
  {
   "cell_type": "code",
   "execution_count": 144,
   "id": "0613afc0",
   "metadata": {},
   "outputs": [
    {
     "data": {
      "text/plain": [
       "0       NaN\n",
       "1       0.0\n",
       "2       0.0\n",
       "3       0.0\n",
       "4       0.0\n",
       "       ... \n",
       "1138    0.0\n",
       "1139    0.0\n",
       "1140    0.0\n",
       "1141    0.0\n",
       "1142    0.0\n",
       "Name: Cases, Length: 1143, dtype: float64"
      ]
     },
     "execution_count": 144,
     "metadata": {},
     "output_type": "execute_result"
    }
   ],
   "source": [
    "Daily_recovered_1"
   ]
  },
  {
   "cell_type": "code",
   "execution_count": 81,
   "id": "a739f3b0",
   "metadata": {},
   "outputs": [
    {
     "data": {
      "text/plain": [
       "11188.0"
      ]
     },
     "execution_count": 81,
     "metadata": {},
     "output_type": "execute_result"
    }
   ],
   "source": [
    "Daily_recovered_1.max()                  # Maximum daily recovered rate."
   ]
  },
  {
   "cell_type": "code",
   "execution_count": 82,
   "id": "78616c94",
   "metadata": {},
   "outputs": [],
   "source": [
    "lab_1=merge_data.nlargest(10,\"No. of Cases (on admission)\")[[\"No. of Cases (on admission)\",\"States Affected\"]].set_index(\"States Affected\") "
   ]
  },
  {
   "cell_type": "code",
   "execution_count": 83,
   "id": "d05960f6",
   "metadata": {},
   "outputs": [
    {
     "data": {
      "text/html": [
       "<div>\n",
       "<style scoped>\n",
       "    .dataframe tbody tr th:only-of-type {\n",
       "        vertical-align: middle;\n",
       "    }\n",
       "\n",
       "    .dataframe tbody tr th {\n",
       "        vertical-align: top;\n",
       "    }\n",
       "\n",
       "    .dataframe thead th {\n",
       "        text-align: right;\n",
       "    }\n",
       "</style>\n",
       "<table border=\"1\" class=\"dataframe\">\n",
       "  <thead>\n",
       "    <tr style=\"text-align: right;\">\n",
       "      <th></th>\n",
       "      <th>No. of Cases (on admission)</th>\n",
       "    </tr>\n",
       "    <tr>\n",
       "      <th>States Affected</th>\n",
       "      <th></th>\n",
       "    </tr>\n",
       "  </thead>\n",
       "  <tbody>\n",
       "    <tr>\n",
       "      <th>Lagos</th>\n",
       "      <td>1143</td>\n",
       "    </tr>\n",
       "    <tr>\n",
       "      <th>Delta</th>\n",
       "      <td>576</td>\n",
       "    </tr>\n",
       "    <tr>\n",
       "      <th>Kwara</th>\n",
       "      <td>452</td>\n",
       "    </tr>\n",
       "    <tr>\n",
       "      <th>Ondo</th>\n",
       "      <td>315</td>\n",
       "    </tr>\n",
       "    <tr>\n",
       "      <th>Niger</th>\n",
       "      <td>165</td>\n",
       "    </tr>\n",
       "    <tr>\n",
       "      <th>Adamawa</th>\n",
       "      <td>134</td>\n",
       "    </tr>\n",
       "    <tr>\n",
       "      <th>Benue</th>\n",
       "      <td>88</td>\n",
       "    </tr>\n",
       "    <tr>\n",
       "      <th>Anambra</th>\n",
       "      <td>46</td>\n",
       "    </tr>\n",
       "    <tr>\n",
       "      <th>Taraba</th>\n",
       "      <td>32</td>\n",
       "    </tr>\n",
       "    <tr>\n",
       "      <th>Osun</th>\n",
       "      <td>29</td>\n",
       "    </tr>\n",
       "  </tbody>\n",
       "</table>\n",
       "</div>"
      ],
      "text/plain": [
       "                 No. of Cases (on admission)\n",
       "States Affected                             \n",
       "Lagos                                   1143\n",
       "Delta                                    576\n",
       "Kwara                                    452\n",
       "Ondo                                     315\n",
       "Niger                                    165\n",
       "Adamawa                                  134\n",
       "Benue                                     88\n",
       "Anambra                                   46\n",
       "Taraba                                    32\n",
       "Osun                                      29"
      ]
     },
     "execution_count": 83,
     "metadata": {},
     "output_type": "execute_result"
    }
   ],
   "source": [
    "lab_1"
   ]
  },
  {
   "cell_type": "code",
   "execution_count": 84,
   "id": "2f10514d",
   "metadata": {},
   "outputs": [
    {
     "data": {
      "image/png": "[encoded data removed]",
      "text/plain": [
       "<Figure size 640x480 with 1 Axes>"
      ]
     },
     "metadata": {},
     "output_type": "display_data"
    }
   ],
   "source": [
    "sns.barplot(x=\"No. of Cases (on admission)\",y=lab_1.index,data=lab_1)\n",
    "plt.title(\"States with the highest Admission cases\")\n",
    "plt.show()"
   ]
  },
  {
   "cell_type": "markdown",
   "id": "b224b697",
   "metadata": {},
   "source": [
    "*Lagos recorded highest admission cases follow by Delta state."
   ]
  },
  {
   "cell_type": "code",
   "execution_count": 110,
   "id": "d88ced9b",
   "metadata": {},
   "outputs": [
    {
     "data": {
      "image/png": "[encoded data removed]",
      "text/plain": [
       "<Figure size 640x480 with 1 Axes>"
      ]
     },
     "metadata": {},
     "output_type": "display_data"
    }
   ],
   "source": [
    "sns.scatterplot(x=\"No. of Deaths\",y=\"Population\",data=merge_data)\n",
    "plt.title(\"effect of Population on number of death\")\n",
    "plt.show()"
   ]
  },
  {
   "cell_type": "markdown",
   "id": "b0daf4fb",
   "metadata": {},
   "source": [
    "* There correlation between the population and the number of death.\n",
    "* The higher the population the higher the number of deaths"
   ]
  },
  {
   "cell_type": "code",
   "execution_count": 86,
   "id": "07319f32",
   "metadata": {},
   "outputs": [],
   "source": [
    "GDP=pd.melt(realGDP,id_vars=\"Year\",value_vars=[\"Q1\",\"Q2\",\"Q3\",\"Q4\"],var_name=\"Quarters\",value_name=\"Value\")"
   ]
  },
  {
   "cell_type": "code",
   "execution_count": 87,
   "id": "dc238f7d",
   "metadata": {},
   "outputs": [
    {
     "data": {
      "text/html": [
       "<div>\n",
       "<style scoped>\n",
       "    .dataframe tbody tr th:only-of-type {\n",
       "        vertical-align: middle;\n",
       "    }\n",
       "\n",
       "    .dataframe tbody tr th {\n",
       "        vertical-align: top;\n",
       "    }\n",
       "\n",
       "    .dataframe thead th {\n",
       "        text-align: right;\n",
       "    }\n",
       "</style>\n",
       "<table border=\"1\" class=\"dataframe\">\n",
       "  <thead>\n",
       "    <tr style=\"text-align: right;\">\n",
       "      <th></th>\n",
       "      <th>Year</th>\n",
       "      <th>Quarters</th>\n",
       "      <th>Value</th>\n",
       "    </tr>\n",
       "  </thead>\n",
       "  <tbody>\n",
       "    <tr>\n",
       "      <th>0</th>\n",
       "      <td>2014</td>\n",
       "      <td>Q1</td>\n",
       "      <td>15438679.50</td>\n",
       "    </tr>\n",
       "    <tr>\n",
       "      <th>1</th>\n",
       "      <td>2015</td>\n",
       "      <td>Q1</td>\n",
       "      <td>16050601.38</td>\n",
       "    </tr>\n",
       "    <tr>\n",
       "      <th>2</th>\n",
       "      <td>2016</td>\n",
       "      <td>Q1</td>\n",
       "      <td>15943714.54</td>\n",
       "    </tr>\n",
       "    <tr>\n",
       "      <th>3</th>\n",
       "      <td>2017</td>\n",
       "      <td>Q1</td>\n",
       "      <td>15797965.83</td>\n",
       "    </tr>\n",
       "    <tr>\n",
       "      <th>4</th>\n",
       "      <td>2018</td>\n",
       "      <td>Q1</td>\n",
       "      <td>16096654.19</td>\n",
       "    </tr>\n",
       "    <tr>\n",
       "      <th>5</th>\n",
       "      <td>2019</td>\n",
       "      <td>Q1</td>\n",
       "      <td>16434552.65</td>\n",
       "    </tr>\n",
       "    <tr>\n",
       "      <th>6</th>\n",
       "      <td>2020</td>\n",
       "      <td>Q1</td>\n",
       "      <td>16740000.00</td>\n",
       "    </tr>\n",
       "    <tr>\n",
       "      <th>7</th>\n",
       "      <td>2014</td>\n",
       "      <td>Q2</td>\n",
       "      <td>16084622.31</td>\n",
       "    </tr>\n",
       "    <tr>\n",
       "      <th>8</th>\n",
       "      <td>2015</td>\n",
       "      <td>Q2</td>\n",
       "      <td>16463341.91</td>\n",
       "    </tr>\n",
       "    <tr>\n",
       "      <th>9</th>\n",
       "      <td>2016</td>\n",
       "      <td>Q2</td>\n",
       "      <td>16218542.41</td>\n",
       "    </tr>\n",
       "    <tr>\n",
       "      <th>10</th>\n",
       "      <td>2017</td>\n",
       "      <td>Q2</td>\n",
       "      <td>16334719.27</td>\n",
       "    </tr>\n",
       "    <tr>\n",
       "      <th>11</th>\n",
       "      <td>2018</td>\n",
       "      <td>Q2</td>\n",
       "      <td>16580508.07</td>\n",
       "    </tr>\n",
       "    <tr>\n",
       "      <th>12</th>\n",
       "      <td>2019</td>\n",
       "      <td>Q2</td>\n",
       "      <td>16931434.89</td>\n",
       "    </tr>\n",
       "    <tr>\n",
       "      <th>13</th>\n",
       "      <td>2020</td>\n",
       "      <td>Q2</td>\n",
       "      <td>15890000.00</td>\n",
       "    </tr>\n",
       "    <tr>\n",
       "      <th>14</th>\n",
       "      <td>2014</td>\n",
       "      <td>Q3</td>\n",
       "      <td>17479127.58</td>\n",
       "    </tr>\n",
       "    <tr>\n",
       "      <th>15</th>\n",
       "      <td>2015</td>\n",
       "      <td>Q3</td>\n",
       "      <td>17976234.59</td>\n",
       "    </tr>\n",
       "    <tr>\n",
       "      <th>16</th>\n",
       "      <td>2016</td>\n",
       "      <td>Q3</td>\n",
       "      <td>17555441.69</td>\n",
       "    </tr>\n",
       "    <tr>\n",
       "      <th>17</th>\n",
       "      <td>2017</td>\n",
       "      <td>Q3</td>\n",
       "      <td>17760228.17</td>\n",
       "    </tr>\n",
       "    <tr>\n",
       "      <th>18</th>\n",
       "      <td>2018</td>\n",
       "      <td>Q3</td>\n",
       "      <td>18081342.10</td>\n",
       "    </tr>\n",
       "    <tr>\n",
       "      <th>19</th>\n",
       "      <td>2019</td>\n",
       "      <td>Q3</td>\n",
       "      <td>18494114.17</td>\n",
       "    </tr>\n",
       "    <tr>\n",
       "      <th>20</th>\n",
       "      <td>2020</td>\n",
       "      <td>Q3</td>\n",
       "      <td>17820000.00</td>\n",
       "    </tr>\n",
       "    <tr>\n",
       "      <th>21</th>\n",
       "      <td>2014</td>\n",
       "      <td>Q4</td>\n",
       "      <td>18150356.45</td>\n",
       "    </tr>\n",
       "    <tr>\n",
       "      <th>22</th>\n",
       "      <td>2015</td>\n",
       "      <td>Q4</td>\n",
       "      <td>18533752.07</td>\n",
       "    </tr>\n",
       "    <tr>\n",
       "      <th>23</th>\n",
       "      <td>2016</td>\n",
       "      <td>Q4</td>\n",
       "      <td>18213537.29</td>\n",
       "    </tr>\n",
       "    <tr>\n",
       "      <th>24</th>\n",
       "      <td>2017</td>\n",
       "      <td>Q4</td>\n",
       "      <td>18598067.07</td>\n",
       "    </tr>\n",
       "    <tr>\n",
       "      <th>25</th>\n",
       "      <td>2018</td>\n",
       "      <td>Q4</td>\n",
       "      <td>19041437.59</td>\n",
       "    </tr>\n",
       "    <tr>\n",
       "      <th>26</th>\n",
       "      <td>2019</td>\n",
       "      <td>Q4</td>\n",
       "      <td>19530000.00</td>\n",
       "    </tr>\n",
       "    <tr>\n",
       "      <th>27</th>\n",
       "      <td>2020</td>\n",
       "      <td>Q4</td>\n",
       "      <td>0.00</td>\n",
       "    </tr>\n",
       "  </tbody>\n",
       "</table>\n",
       "</div>"
      ],
      "text/plain": [
       "    Year Quarters        Value\n",
       "0   2014       Q1  15438679.50\n",
       "1   2015       Q1  16050601.38\n",
       "2   2016       Q1  15943714.54\n",
       "3   2017       Q1  15797965.83\n",
       "4   2018       Q1  16096654.19\n",
       "5   2019       Q1  16434552.65\n",
       "6   2020       Q1  16740000.00\n",
       "7   2014       Q2  16084622.31\n",
       "8   2015       Q2  16463341.91\n",
       "9   2016       Q2  16218542.41\n",
       "10  2017       Q2  16334719.27\n",
       "11  2018       Q2  16580508.07\n",
       "12  2019       Q2  16931434.89\n",
       "13  2020       Q2  15890000.00\n",
       "14  2014       Q3  17479127.58\n",
       "15  2015       Q3  17976234.59\n",
       "16  2016       Q3  17555441.69\n",
       "17  2017       Q3  17760228.17\n",
       "18  2018       Q3  18081342.10\n",
       "19  2019       Q3  18494114.17\n",
       "20  2020       Q3  17820000.00\n",
       "21  2014       Q4  18150356.45\n",
       "22  2015       Q4  18533752.07\n",
       "23  2016       Q4  18213537.29\n",
       "24  2017       Q4  18598067.07\n",
       "25  2018       Q4  19041437.59\n",
       "26  2019       Q4  19530000.00\n",
       "27  2020       Q4         0.00"
      ]
     },
     "execution_count": 87,
     "metadata": {},
     "output_type": "execute_result"
    }
   ],
   "source": [
    "GDP"
   ]
  },
  {
   "cell_type": "code",
   "execution_count": 88,
   "id": "f6393f72",
   "metadata": {},
   "outputs": [
    {
     "data": {
      "image/png": "[encoded data removed]",
      "text/plain": [
       "<Figure size 640x480 with 1 Axes>"
      ]
     },
     "metadata": {},
     "output_type": "display_data"
    }
   ],
   "source": [
    "sns.barplot(x='Year',y='Value',hue='Quarters',data=GDP)\n",
    "plt.xlabel(\"Years\")\n",
    "plt.ylabel(\"value\")\n",
    "plt.legend(bbox_to_anchor=(1.05,1),loc=2)\n",
    "plt.axhline(y=1.589e7, ls='--')\n",
    "plt.show()"
   ]
  },
  {
   "cell_type": "markdown",
   "id": "3d85e7f1",
   "metadata": {},
   "source": [
    "* The value of the GDP contracted at the second quater of 2020.\n",
    "* This as a result of the impact of covid 19 on the economy"
   ]
  },
  {
   "cell_type": "code",
   "execution_count": 90,
   "id": "1df9556f",
   "metadata": {},
   "outputs": [
    {
     "data": {
      "text/html": [
       "<div>\n",
       "<style scoped>\n",
       "    .dataframe tbody tr th:only-of-type {\n",
       "        vertical-align: middle;\n",
       "    }\n",
       "\n",
       "    .dataframe tbody tr th {\n",
       "        vertical-align: top;\n",
       "    }\n",
       "\n",
       "    .dataframe thead th {\n",
       "        text-align: right;\n",
       "    }\n",
       "</style>\n",
       "<table border=\"1\" class=\"dataframe\">\n",
       "  <thead>\n",
       "    <tr style=\"text-align: right;\">\n",
       "      <th></th>\n",
       "      <th>states</th>\n",
       "      <th>Initial_budget (Bn)</th>\n",
       "      <th>Revised_budget (Bn)</th>\n",
       "    </tr>\n",
       "  </thead>\n",
       "  <tbody>\n",
       "    <tr>\n",
       "      <th>0</th>\n",
       "      <td>Abia</td>\n",
       "      <td>136.60</td>\n",
       "      <td>102.70</td>\n",
       "    </tr>\n",
       "    <tr>\n",
       "      <th>1</th>\n",
       "      <td>Adamawa</td>\n",
       "      <td>183.30</td>\n",
       "      <td>139.31</td>\n",
       "    </tr>\n",
       "    <tr>\n",
       "      <th>2</th>\n",
       "      <td>Akwa-Ibom</td>\n",
       "      <td>597.73</td>\n",
       "      <td>366.00</td>\n",
       "    </tr>\n",
       "    <tr>\n",
       "      <th>3</th>\n",
       "      <td>Anambra</td>\n",
       "      <td>137.10</td>\n",
       "      <td>112.80</td>\n",
       "    </tr>\n",
       "    <tr>\n",
       "      <th>4</th>\n",
       "      <td>Bauchi</td>\n",
       "      <td>167.20</td>\n",
       "      <td>128.00</td>\n",
       "    </tr>\n",
       "  </tbody>\n",
       "</table>\n",
       "</div>"
      ],
      "text/plain": [
       "      states  Initial_budget (Bn)  Revised_budget (Bn)\n",
       "0       Abia               136.60               102.70\n",
       "1    Adamawa               183.30               139.31\n",
       "2  Akwa-Ibom               597.73               366.00\n",
       "3    Anambra               137.10               112.80\n",
       "4     Bauchi               167.20               128.00"
      ]
     },
     "execution_count": 90,
     "metadata": {},
     "output_type": "execute_result"
    }
   ],
   "source": [
    "budget_data.head()"
   ]
  },
  {
   "cell_type": "code",
   "execution_count": 97,
   "id": "6a3a419f",
   "metadata": {},
   "outputs": [],
   "source": [
    "budget=budget_data.sort_values(by=\"Initial_budget (Bn)\",ascending=False).head(10)"
   ]
  },
  {
   "cell_type": "code",
   "execution_count": 99,
   "id": "05994507",
   "metadata": {},
   "outputs": [
    {
     "data": {
      "image/png": "[encoded data removed]",
      "text/plain": [
       "<Figure size 640x480 with 1 Axes>"
      ]
     },
     "metadata": {},
     "output_type": "display_data"
    }
   ],
   "source": [
    "sns.barplot(x=\"Initial_budget (Bn)\",y=\"states\",data=budget)\n",
    "plt.title(\" 10 Top states with the highest initial budget\")\n",
    "plt.show()"
   ]
  },
  {
   "cell_type": "code",
   "execution_count": null,
   "id": "31dc41e5",
   "metadata": {},
   "outputs": [],
   "source": []
  }
 ],
 "metadata": {
  "kernelspec": {
   "display_name": "Python 3 (ipykernel)",
   "language": "python",
   "name": "python3"
  },
  "language_info": {
   "codemirror_mode": {
    "name": "ipython",
    "version": 3
   },
   "file_extension": ".py",
   "mimetype": "text/x-python",
   "name": "python",
   "nbconvert_exporter": "python",
   "pygments_lexer": "ipython3",
   "version": "3.10.9"
  }
 },
 "nbformat": 4,
 "nbformat_minor": 5
}
